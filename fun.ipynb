{
 "cells": [
  {
   "cell_type": "code",
   "execution_count": 6,
   "metadata": {},
   "outputs": [
    {
     "name": "stdout",
     "output_type": "stream",
     "text": [
      "Stored ID 6651725723 for profile _.harpreet.singh._.\n",
      "_.harpreet.singh._\\2022-02-04_20-07-53_UTC_profile_pic.jpg \n"
     ]
    }
   ],
   "source": [
    "\n",
    "import instaloader\n",
    "ig = instaloader.Instaloader()\n",
    "dp= input (\"Enter user name\")\n",
    "ig.download_profile(dp,profile_pic_only=True)"
   ]
  },
  {
   "cell_type": "code",
   "execution_count": 8,
   "metadata": {},
   "outputs": [
    {
     "data": {
      "text/plain": [
       "'d:\\\\Python\\\\Russians start Destroying American Products over Ukraine War shorts.mp4'"
      ]
     },
     "execution_count": 8,
     "metadata": {},
     "output_type": "execute_result"
    }
   ],
   "source": [
    "from pytube import YouTube\n",
    "link= input(\"Entere Url\")\n",
    "video= YouTube(link)\n",
    "stream = video.streams.get_highest_resolution()\n",
    "stream.download()"
   ]
  },
  {
   "cell_type": "code",
   "execution_count": 1,
   "metadata": {},
   "outputs": [
    {
     "ename": "ModuleNotFoundError",
     "evalue": "No module named 'sketchpy'",
     "output_type": "error",
     "traceback": [
      "\u001b[1;31m---------------------------------------------------------------------------\u001b[0m",
      "\u001b[1;31mModuleNotFoundError\u001b[0m                       Traceback (most recent call last)",
      "\u001b[1;32md:\\Python\\fun.ipynb Cell 3'\u001b[0m in \u001b[0;36m<module>\u001b[1;34m\u001b[0m\n\u001b[1;32m----> <a href='vscode-notebook-cell:/d%3A/Python/fun.ipynb#ch0000002?line=0'>1</a>\u001b[0m \u001b[39mfrom\u001b[39;00m \u001b[39msketchpy\u001b[39;00m \u001b[39mimport\u001b[39;00m library \u001b[39mas\u001b[39;00m lib\n\u001b[0;32m      <a href='vscode-notebook-cell:/d%3A/Python/fun.ipynb#ch0000002?line=1'>2</a>\u001b[0m obj\u001b[39m=\u001b[39mlib\u001b[39m.\u001b[39mrdj()\n\u001b[0;32m      <a href='vscode-notebook-cell:/d%3A/Python/fun.ipynb#ch0000002?line=2'>3</a>\u001b[0m obj\u001b[39m.\u001b[39mdraw()\n",
      "\u001b[1;31mModuleNotFoundError\u001b[0m: No module named 'sketchpy'"
     ]
    }
   ],
   "source": [
    "from sketchpy import library as lib\n",
    "obj=lib.rdj()\n",
    "obj.draw()"
   ]
  },
  {
   "cell_type": "code",
   "execution_count": null,
   "metadata": {},
   "outputs": [],
   "source": []
  }
 ],
 "metadata": {
  "interpreter": {
   "hash": "8eedd8bba5cf8af416d277e5b6acb73c17c7e7766b082e155fe64db127c7a7bb"
  },
  "kernelspec": {
   "display_name": "Python 3.9.5 ('base')",
   "language": "python",
   "name": "python3"
  },
  "language_info": {
   "codemirror_mode": {
    "name": "ipython",
    "version": 3
   },
   "file_extension": ".py",
   "mimetype": "text/x-python",
   "name": "python",
   "nbconvert_exporter": "python",
   "pygments_lexer": "ipython3",
   "version": "3.9.5"
  },
  "orig_nbformat": 4
 },
 "nbformat": 4,
 "nbformat_minor": 2
}
