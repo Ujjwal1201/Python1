{
 "cells": [
  {
   "cell_type": "code",
   "execution_count": 3,
   "metadata": {},
   "outputs": [
    {
     "name": "stdout",
     "output_type": "stream",
     "text": [
      "P\n",
      "y\n",
      "t\n",
      "h\n",
      "o\n",
      "n\n",
      " \n",
      "i\n",
      "s\n",
      " \n",
      "a\n",
      " \n",
      "p\n",
      "r\n",
      "o\n",
      "g\n",
      "r\n",
      "a\n",
      "m\n",
      "m\n",
      "i\n",
      "n\n",
      "g\n",
      " \n",
      "l\n",
      "a\n",
      "n\n",
      "g\n",
      "u\n",
      "a\n",
      "g\n",
      "e\n"
     ]
    }
   ],
   "source": [
    "x=\"Python is a programming language\"\n",
    "for i in x :\n",
    "    print(i)\n",
    "\n",
    "    "
   ]
  },
  {
   "cell_type": "code",
   "execution_count": 7,
   "metadata": {},
   "outputs": [
    {
     "name": "stdout",
     "output_type": "stream",
     "text": [
      "I have a mango\n",
      "I have a banana\n",
      "I have a lemon\n"
     ]
    }
   ],
   "source": [
    "fruits=[\"mango\",\"banana\",\"lemon\"]\n",
    "for item in fruits:\n",
    "    print(f\"I have a {item}\")"
   ]
  },
  {
   "cell_type": "code",
   "execution_count": 10,
   "metadata": {},
   "outputs": [
    {
     "name": "stdout",
     "output_type": "stream",
     "text": [
      "the holy grail 14\n",
      "KGF 3\n",
      "terminator 10\n"
     ]
    }
   ],
   "source": [
    "movies=[\"the holy grail\",\"KGF\",\"terminator\"]\n",
    "for letter in movies:\n",
    "    print(letter,len(letter))"
   ]
  },
  {
   "cell_type": "code",
   "execution_count": 11,
   "metadata": {},
   "outputs": [
    {
     "name": "stdout",
     "output_type": "stream",
     "text": [
      "0-the holy grail\n",
      "1-KGF\n",
      "2-terminator\n"
     ]
    }
   ],
   "source": [
    "#for loop with counter\n",
    "for i,name in enumerate(movies):\n",
    "    print(f\"{i}-{name}\")"
   ]
  },
  {
   "cell_type": "code",
   "execution_count": 14,
   "metadata": {},
   "outputs": [
    {
     "name": "stdout",
     "output_type": "stream",
     "text": [
      "python 0\n",
      "python 1\n",
      "python 2\n",
      "python 3\n",
      "python 4\n"
     ]
    }
   ],
   "source": [
    "for i in range(5):  \n",
    "    print(\"python\",i)"
   ]
  },
  {
   "cell_type": "code",
   "execution_count": 15,
   "metadata": {},
   "outputs": [
    {
     "name": "stdout",
     "output_type": "stream",
     "text": [
      "python\n",
      "python\n",
      "python\n",
      "python\n",
      "python\n"
     ]
    }
   ],
   "source": [
    "for i in range(5):\n",
    "    print(\"python\")"
   ]
  },
  {
   "cell_type": "code",
   "execution_count": 21,
   "metadata": {},
   "outputs": [
    {
     "name": "stdout",
     "output_type": "stream",
     "text": [
      "level 0\n",
      "level 5\n",
      "level 10\n",
      "level 15\n",
      "level 20\n",
      "level 25\n",
      "level 30\n",
      "level 35\n",
      "level 40\n",
      "level 45\n"
     ]
    }
   ],
   "source": [
    "for num  in range(0,50,5):\n",
    "    print(\"level\",num)"
   ]
  },
  {
   "cell_type": "code",
   "execution_count": 23,
   "metadata": {},
   "outputs": [
    {
     "name": "stdout",
     "output_type": "stream",
     "text": [
      "\n",
      "na\n",
      "nana\n",
      "nanana\n",
      "nananana\n",
      "nanananana\n",
      "nananananana\n",
      "nanananananana\n",
      "nananananananana\n",
      "nanananananananana\n",
      "nananananananananana\n",
      "nanananananananananana\n"
     ]
    }
   ],
   "source": [
    "#pattern loop\n",
    "for i in range(12):\n",
    "    print(i * \"na\")"
   ]
  },
  {
   "cell_type": "code",
   "execution_count": 25,
   "metadata": {},
   "outputs": [
    {
     "name": "stdout",
     "output_type": "stream",
     "text": [
      "10\n",
      "9\n",
      "8\n",
      "7\n",
      "6\n",
      "5\n",
      "4\n",
      "3\n",
      "2\n",
      "1\n"
     ]
    }
   ],
   "source": [
    "#reverse \n",
    "for num in range(10,0,-1):\n",
    "    print(num)"
   ]
  },
  {
   "cell_type": "code",
   "execution_count": 34,
   "metadata": {},
   "outputs": [
    {
     "name": "stdout",
     "output_type": "stream",
     "text": [
      "1  is odd\n",
      "2  is even\n",
      "3  is odd\n",
      "4  is even\n",
      "5  is odd\n",
      "6  is even\n",
      "7  is odd\n",
      "8  is even\n",
      "9  is odd\n",
      "10  is even\n",
      "11  is odd\n",
      "12  is even\n",
      "13  is odd\n",
      "14  is even\n",
      "15  is odd\n",
      "16  is even\n",
      "17  is odd\n",
      "18  is even\n",
      "19  is odd\n",
      "20  is even\n",
      "21  is odd\n",
      "22  is even\n",
      "23  is odd\n",
      "24  is even\n",
      "25  is odd\n",
      "26  is even\n",
      "27  is odd\n",
      "28  is even\n",
      "29  is odd\n",
      "30  is even\n",
      "31  is odd\n",
      "32  is even\n",
      "33  is odd\n",
      "34  is even\n",
      "35  is odd\n",
      "36  is even\n",
      "37  is odd\n",
      "38  is even\n",
      "39  is odd\n",
      "40  is even\n",
      "41  is odd\n",
      "42  is even\n",
      "43  is odd\n",
      "44  is even\n",
      "45  is odd\n",
      "46  is even\n",
      "47  is odd\n",
      "48  is even\n",
      "49  is odd\n",
      "50  is even\n",
      "51  is odd\n",
      "52  is even\n",
      "53  is odd\n",
      "54  is even\n",
      "55  is odd\n",
      "56  is even\n",
      "57  is odd\n",
      "58  is even\n",
      "59  is odd\n",
      "60  is even\n",
      "61  is odd\n",
      "62  is even\n",
      "63  is odd\n",
      "64  is even\n",
      "65  is odd\n",
      "66  is even\n",
      "67  is odd\n",
      "68  is even\n",
      "69  is odd\n",
      "70  is even\n",
      "71  is odd\n",
      "72  is even\n",
      "73  is odd\n",
      "74  is even\n",
      "75  is odd\n",
      "76  is even\n",
      "77  is odd\n",
      "78  is even\n",
      "79  is odd\n",
      "80  is even\n",
      "81  is odd\n",
      "82  is even\n",
      "83  is odd\n",
      "84  is even\n",
      "85  is odd\n",
      "86  is even\n",
      "87  is odd\n",
      "88  is even\n",
      "89  is odd\n",
      "90  is even\n",
      "91  is odd\n",
      "92  is even\n",
      "93  is odd\n",
      "94  is even\n",
      "95  is odd\n",
      "96  is even\n",
      "97  is odd\n",
      "98  is even\n",
      "99  is odd\n",
      "100  is even\n",
      "101  is odd\n"
     ]
    }
   ],
   "source": [
    "#wap  to check  a number even or odd from 1 to 102\n",
    "\n",
    "for i in range(1,102):\n",
    "    if(i%2==0):\n",
    "        print(i,\" is even\")\n",
    "    else:\n",
    "        print(i,\" is odd\")"
   ]
  },
  {
   "cell_type": "code",
   "execution_count": 40,
   "metadata": {},
   "outputs": [
    {
     "name": "stdout",
     "output_type": "stream",
     "text": [
      "sum is 2550\n"
     ]
    }
   ],
   "source": [
    "#sum of all even numbers from 2 to 101\n",
    "sum=0\n",
    "for num in range (2,102):\n",
    "    if(num%2==0):\n",
    "        sum=sum+num\n",
    "print(\"sum is\",sum)"
   ]
  },
  {
   "cell_type": "code",
   "execution_count": 50,
   "metadata": {},
   "outputs": [
    {
     "name": "stdout",
     "output_type": "stream",
     "text": [
      "Average is 52.0\n"
     ]
    }
   ],
   "source": [
    "#Average of all even numbers from 2 to 101\n",
    "sum=c=0\n",
    "for num in range (2,102):\n",
    "    if(num%2 != 0):\n",
    "        c= c+1\n",
    "        sum=sum+num\n",
    "avg = sum/c       \n",
    "print(\"Average is\",avg)"
   ]
  },
  {
   "cell_type": "code",
   "execution_count": 29,
   "metadata": {},
   "outputs": [
    {
     "name": "stdout",
     "output_type": "stream",
     "text": [
      "1\t2\t3\t4\t5\t\n",
      "2\t4\t6\t8\t10\t\n",
      "3\t6\t9\t12\t15\t\n",
      "4\t8\t12\t16\t20\t\n",
      "5\t10\t15\t20\t25\t\n"
     ]
    }
   ],
   "source": [
    "#Best method     #Dynamic\n",
    "c=0\n",
    "for i in range(1,6):\n",
    "    for j in range(1,6):\n",
    "        c=i*j\n",
    "        print(c,end='\\t')\n",
    "    print()\n",
    "    "
   ]
  },
  {
   "cell_type": "markdown",
   "metadata": {},
   "source": []
  },
  {
   "cell_type": "code",
   "execution_count": 24,
   "metadata": {},
   "outputs": [
    {
     "name": "stdout",
     "output_type": "stream",
     "text": [
      "1 2 3 4 5\n",
      "2 4 6 8 10\n",
      "3 6 9 12 15\n",
      "4 8 12 16 20\n",
      "5 10 15 20 25\n"
     ]
    }
   ],
   "source": [
    "for i in range(1,6):   \n",
    "    print(1*i,2*i,3*i,4*i,5*i,sep=\" \")"
   ]
  },
  {
   "cell_type": "code",
   "execution_count": 30,
   "metadata": {},
   "outputs": [
    {
     "name": "stdout",
     "output_type": "stream",
     "text": [
      "run\n",
      "run\n",
      "run\n",
      "run\n",
      "stop\n"
     ]
    }
   ],
   "source": [
    "x=1\n",
    "while x<5:\n",
    "    print('run')\n",
    "    x+=1\n",
    "print(\"stop\")"
   ]
  },
  {
   "cell_type": "code",
   "execution_count": 35,
   "metadata": {},
   "outputs": [
    {
     "name": "stdout",
     "output_type": "stream",
     "text": [
      "The sum is 500500\n"
     ]
    }
   ],
   "source": [
    "n=1000\n",
    "sum=0\n",
    "i=1\n",
    "while i<=n:\n",
    "    sum=sum+i\n",
    "    i=i+1\n",
    "print(\"The sum is\",sum)"
   ]
  },
  {
   "cell_type": "code",
   "execution_count": 46,
   "metadata": {},
   "outputs": [
    {
     "name": "stdout",
     "output_type": "stream",
     "text": [
      "total chars in poem is26\n"
     ]
    }
   ],
   "source": [
    "#To print multiple lines\n",
    "poem=\"\"\n",
    "while input('Do you want to write another line?[y]')==\"y\":\n",
    "    line =input(\">>>\")\n",
    "    poem+=line\n",
    "chars=len(poem)\n",
    "print(f\"total chars in poem is{chars}\")    \n"
   ]
  },
  {
   "cell_type": "code",
   "execution_count": 47,
   "metadata": {},
   "outputs": [
    {
     "name": "stdout",
     "output_type": "stream",
     "text": [
      "twinkle twinklelittle star\n"
     ]
    }
   ],
   "source": [
    "print(poem)"
   ]
  },
  {
   "cell_type": "code",
   "execution_count": 52,
   "metadata": {},
   "outputs": [
    {
     "name": "stdout",
     "output_type": "stream",
     "text": [
      "55\n"
     ]
    }
   ],
   "source": [
    "#continue\n",
    "x=[1,2,3,4,5,\" \",6,7,8,9,10]\n",
    "total=0\n",
    "for i in x:\n",
    "    if isinstance(i,str):\n",
    "        continue\n",
    "    total+=i\n",
    "print(total)"
   ]
  },
  {
   "cell_type": "code",
   "execution_count": 54,
   "metadata": {},
   "outputs": [
    {
     "name": "stdout",
     "output_type": "stream",
     "text": [
      "46\n"
     ]
    }
   ],
   "source": [
    "#continue\n",
    "x=[1,2,3,4,5,6,7,8,9,10] \n",
    "total=0\n",
    "for i in x:\n",
    "    if i in [4,5]:\n",
    "        continue\n",
    "    total+=i\n",
    "print(total)"
   ]
  },
  {
   "cell_type": "code",
   "execution_count": null,
   "metadata": {},
   "outputs": [],
   "source": []
  }
 ],
 "metadata": {
  "interpreter": {
   "hash": "8eedd8bba5cf8af416d277e5b6acb73c17c7e7766b082e155fe64db127c7a7bb"
  },
  "kernelspec": {
   "display_name": "Python 3.9.5 ('base')",
   "language": "python",
   "name": "python3"
  },
  "language_info": {
   "codemirror_mode": {
    "name": "ipython",
    "version": 3
   },
   "file_extension": ".py",
   "mimetype": "text/x-python",
   "name": "python",
   "nbconvert_exporter": "python",
   "pygments_lexer": "ipython3",
   "version": "3.9.5"
  },
  "orig_nbformat": 4
 },
 "nbformat": 4,
 "nbformat_minor": 2
}
