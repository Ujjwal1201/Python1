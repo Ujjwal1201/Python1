{
 "cells": [
  {
   "cell_type": "code",
   "execution_count": 12,
   "metadata": {},
   "outputs": [
    {
     "name": "stdout",
     "output_type": "stream",
     "text": [
      "You see a apple seller\n",
      "Buy 2 kg of Apples\n"
     ]
    }
   ],
   "source": [
    "print('You see a apple seller')#No indentation\n",
    "q=input('Do you like Apples')\n",
    "if q == 'yes' :\n",
    "    print('Buy 2 kg of Apples') #indentation\n",
    "if q == 'no' :\n",
    "    print('You dont buy Apples')\n"
   ]
  },
  {
   "cell_type": "code",
   "execution_count": 14,
   "metadata": {},
   "outputs": [
    {
     "name": "stdout",
     "output_type": "stream",
     "text": [
      "The end\n"
     ]
    }
   ],
   "source": [
    "x=2\n",
    "if x > 5 :\n",
    "    print(\"x is greater than 5\")\n",
    "    print(\"This is the information we need\")\n",
    "    print(\"With this power,comes great responsibility\")\n",
    "print(\"The end\")    "
   ]
  },
  {
   "cell_type": "code",
   "execution_count": 20,
   "metadata": {},
   "outputs": [
    {
     "name": "stdout",
     "output_type": "stream",
     "text": [
      "Wear shorts\n",
      "Get some excercise in the garden.\n"
     ]
    }
   ],
   "source": [
    "temp = float(input(\"enter the temperature.\"))\n",
    "if temp > 30 :\n",
    "    print(\"Wear shorts\")\n",
    "else:\n",
    "    print(\"Wear long pants.\")\n",
    "print(\"Get some excercise in the garden.\")    \n"
   ]
  },
  {
   "cell_type": "code",
   "execution_count": 23,
   "metadata": {},
   "outputs": [
    {
     "name": "stdout",
     "output_type": "stream",
     "text": [
      "C\n"
     ]
    }
   ],
   "source": [
    "score=int(input(\"your score\"))\n",
    "if score>=90:\n",
    "    grade=\"A\"\n",
    "elif score>=80: #elif is used when there are more then 1 condition\n",
    "    grade=\"B\"\n",
    "elif score>=70:\n",
    "    grade=\"C\"\n",
    "elif score>=60:\n",
    "    grade=\"D\"\n",
    "else:\n",
    "    grade=\"F\"    \n",
    "print(grade)"
   ]
  },
  {
   "cell_type": "code",
   "execution_count": 27,
   "metadata": {},
   "outputs": [
    {
     "name": "stdout",
     "output_type": "stream",
     "text": [
      "77\n"
     ]
    }
   ],
   "source": [
    "#One line alternative\n",
    "if 77 in range(100): print(\"77\")"
   ]
  },
  {
   "cell_type": "code",
   "execution_count": 32,
   "metadata": {},
   "outputs": [
    {
     "name": "stdout",
     "output_type": "stream",
     "text": [
      "Bob\n"
     ]
    }
   ],
   "source": [
    "x=\"Alice\" if \"Jon\" in \"My name is Jonas\" else \"Bob\"\n",
    "print(x)"
   ]
  },
  {
   "cell_type": "code",
   "execution_count": 34,
   "metadata": {},
   "outputs": [
    {
     "name": "stdout",
     "output_type": "stream",
     "text": [
      "yellow\n"
     ]
    }
   ],
   "source": [
    "print(\"yellow\") if \"o\" in \"orange\" else print(\"brown\")"
   ]
  },
  {
   "cell_type": "code",
   "execution_count": 35,
   "metadata": {},
   "outputs": [
    {
     "name": "stdout",
     "output_type": "stream",
     "text": [
      "42\n"
     ]
    }
   ],
   "source": [
    "print (\"42\") if 42 in [22,33,42] else print(\"21\")"
   ]
  },
  {
   "cell_type": "code",
   "execution_count": 11,
   "metadata": {},
   "outputs": [
    {
     "name": "stdout",
     "output_type": "stream",
     "text": [
      "number is odd.\n"
     ]
    }
   ],
   "source": [
    "\n",
    "n=int(input(\"enter the value of n\"))\n",
    "if n%2==0:\n",
    "    print(\"number is even.\")\n",
    "else :\n",
    "    print(\"number is odd.\")   \n",
    "\n",
    "\n"
   ]
  },
  {
   "cell_type": "code",
   "execution_count": 2,
   "metadata": {},
   "outputs": [
    {
     "name": "stdout",
     "output_type": "stream",
     "text": [
      "Lists not equal\n"
     ]
    }
   ],
   "source": [
    "l1=[2,43,6,7,9,]\n",
    "l2=[2,8,67,7,9,]\n",
    "if l1==l2:\n",
    "    print(\"Lists are equal\")\n",
    "else:\n",
    "    print(\"Lists not equal\")\n",
    "\n"
   ]
  },
  {
   "cell_type": "code",
   "execution_count": null,
   "metadata": {},
   "outputs": [],
   "source": []
  }
 ],
 "metadata": {
  "interpreter": {
   "hash": "8eedd8bba5cf8af416d277e5b6acb73c17c7e7766b082e155fe64db127c7a7bb"
  },
  "kernelspec": {
   "display_name": "Python 3.9.5 64-bit ('base': conda)",
   "language": "python",
   "name": "python3"
  },
  "language_info": {
   "codemirror_mode": {
    "name": "ipython",
    "version": 3
   },
   "file_extension": ".py",
   "mimetype": "text/x-python",
   "name": "python",
   "nbconvert_exporter": "python",
   "pygments_lexer": "ipython3",
   "version": "3.9.5"
  },
  "orig_nbformat": 4
 },
 "nbformat": 4,
 "nbformat_minor": 2
}
