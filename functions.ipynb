{
 "cells": [
  {
   "cell_type": "code",
   "execution_count": 5,
   "metadata": {},
   "outputs": [],
   "source": [
    "def check(): # def is a keyword\n",
    "    print(\"This is a function\")\n"
   ]
  },
  {
   "cell_type": "code",
   "execution_count": 2,
   "metadata": {},
   "outputs": [
    {
     "name": "stdout",
     "output_type": "stream",
     "text": [
      "This is a function\n"
     ]
    }
   ],
   "source": [
    "check()"
   ]
  },
  {
   "cell_type": "code",
   "execution_count": 3,
   "metadata": {},
   "outputs": [
    {
     "name": "stdout",
     "output_type": "stream",
     "text": [
      "This is a function\n",
      "This is a function\n"
     ]
    }
   ],
   "source": [
    "check()\n",
    "check()"
   ]
  },
  {
   "cell_type": "code",
   "execution_count": 8,
   "metadata": {},
   "outputs": [],
   "source": [
    "def divide(a,b):\n",
    "    ans= a/b\n",
    "    print(ans)\n"
   ]
  },
  {
   "cell_type": "code",
   "execution_count": 14,
   "metadata": {},
   "outputs": [
    {
     "ename": "TypeError",
     "evalue": "divide() takes 2 positional arguments but 3 were given",
     "output_type": "error",
     "traceback": [
      "\u001b[1;31m---------------------------------------------------------------------------\u001b[0m",
      "\u001b[1;31mTypeError\u001b[0m                                 Traceback (most recent call last)",
      "\u001b[1;32md:\\Python\\functions.ipynb Cell 5'\u001b[0m in \u001b[0;36m<module>\u001b[1;34m\u001b[0m\n\u001b[0;32m      <a href='vscode-notebook-cell:/d%3A/Python/functions.ipynb#ch0000004?line=0'>1</a>\u001b[0m \u001b[39m#divide(10)\u001b[39;00m\n\u001b[1;32m----> <a href='vscode-notebook-cell:/d%3A/Python/functions.ipynb#ch0000004?line=1'>2</a>\u001b[0m divide(\u001b[39m9\u001b[39;49m,\u001b[39m5\u001b[39;49m,\u001b[39m2\u001b[39;49m)\n\u001b[0;32m      <a href='vscode-notebook-cell:/d%3A/Python/functions.ipynb#ch0000004?line=2'>3</a>\u001b[0m divide(\u001b[39m64\u001b[39m,\u001b[39m8\u001b[39m)\n",
      "\u001b[1;31mTypeError\u001b[0m: divide() takes 2 positional arguments but 3 were given"
     ]
    }
   ],
   "source": [
    "#divide(10)  #error\n",
    "#divide(9,5,2)  # error\n",
    "divide(64,8)"
   ]
  },
  {
   "cell_type": "code",
   "execution_count": 26,
   "metadata": {},
   "outputs": [],
   "source": [
    "def update_salary(old_salary):\n",
    "    new_salary=old_salary + old_salary *.08\n",
    "    print(f'{old_salary}->{new_salary}')\n",
    "\n",
    "def remove_hra(salary):\n",
    "    new_salary=salary- salary *.05\n",
    "    print(f\"{salary}->{new_salary}\")"
   ]
  },
  {
   "cell_type": "code",
   "execution_count": 27,
   "metadata": {},
   "outputs": [
    {
     "name": "stdout",
     "output_type": "stream",
     "text": [
      "1000->1080.0\n",
      "16778->15939.1\n"
     ]
    }
   ],
   "source": [
    "update_salary(1000)\n",
    "remove_hra(16778)"
   ]
  },
  {
   "cell_type": "code",
   "execution_count": 24,
   "metadata": {},
   "outputs": [],
   "source": [
    "def total(z,x,c,v,b):\n",
    "    return z+x+c+v+b"
   ]
  },
  {
   "cell_type": "code",
   "execution_count": 25,
   "metadata": {},
   "outputs": [
    {
     "data": {
      "text/plain": [
       "25"
      ]
     },
     "execution_count": 25,
     "metadata": {},
     "output_type": "execute_result"
    }
   ],
   "source": [
    "total(4,6,7,3,5)"
   ]
  },
  {
   "cell_type": "code",
   "execution_count": 28,
   "metadata": {},
   "outputs": [
    {
     "name": "stdout",
     "output_type": "stream",
     "text": [
      "26\n"
     ]
    }
   ],
   "source": [
    "a=[]   #using loop\n",
    "for i in range(5):\n",
    "    b=int(input())\n",
    "    a.append(b)\n",
    "print(total(a[0],a[1],a[2],a[3],a[4]))\n"
   ]
  },
  {
   "cell_type": "code",
   "execution_count": 20,
   "metadata": {},
   "outputs": [],
   "source": [
    "#Write a function to return true or false,if a number is even or odd\n",
    "def boolean(n):\n",
    "     if n%2==0:\n",
    "       return True\n",
    "     return False\n",
    "     \n",
    "    "
   ]
  },
  {
   "cell_type": "code",
   "execution_count": 22,
   "metadata": {},
   "outputs": [
    {
     "name": "stdout",
     "output_type": "stream",
     "text": [
      "True\n"
     ]
    }
   ],
   "source": [
    "print(boolean(26))"
   ]
  },
  {
   "cell_type": "code",
   "execution_count": 17,
   "metadata": {},
   "outputs": [],
   "source": [
    "#Writ a function to remove all vowels from the sentence given in a function\n",
    "def remvow(sen):\n",
    "    for v in \"AEIOUaeiou\":\n",
    "        sen=sen.replace(v,\"\")\n",
    "    return sen\n"
   ]
  },
  {
   "cell_type": "code",
   "execution_count": 18,
   "metadata": {},
   "outputs": [
    {
     "name": "stdout",
     "output_type": "stream",
     "text": [
      "Ths s  wlcm grtng frm jjwl\n"
     ]
    }
   ],
   "source": [
    "print(remvow('This is a welcome greeting from ujjwal'))\n"
   ]
  },
  {
   "cell_type": "code",
   "execution_count": 11,
   "metadata": {},
   "outputs": [],
   "source": [
    "#Write a functionto return second highest number from a list\n",
    "def max2(number):\n",
    "    number.sort()\n",
    "    print(number)\n",
    "    return number[-2]"
   ]
  },
  {
   "cell_type": "code",
   "execution_count": 52,
   "metadata": {},
   "outputs": [],
   "source": [
    "def count_zeros(*nums):  # *makrs the argument variable\n",
    "    if len(nums)>0:\n",
    "        return nums.count(0)\n",
    "        "
   ]
  },
  {
   "cell_type": "code",
   "execution_count": 55,
   "metadata": {},
   "outputs": [
    {
     "name": "stdout",
     "output_type": "stream",
     "text": [
      "None\n",
      "2\n",
      "3\n"
     ]
    }
   ],
   "source": [
    "print(count_zeros())\n",
    "print(count_zeros(3,4,5,0,8,6,0,5,))\n",
    "print(count_zeros(0,6,7,0,4,70,3,4,0,))"
   ]
  },
  {
   "cell_type": "code",
   "execution_count": 56,
   "metadata": {},
   "outputs": [],
   "source": [
    "def adder(*args):\n",
    "    if len(args)>0:\n",
    "        return sum(args)\n",
    "    return 0"
   ]
  },
  {
   "cell_type": "code",
   "execution_count": 58,
   "metadata": {},
   "outputs": [
    {
     "name": "stdout",
     "output_type": "stream",
     "text": [
      "0\n",
      "87\n"
     ]
    }
   ],
   "source": [
    "print(adder())\n",
    "print(adder(1,4,6,76))"
   ]
  },
  {
   "cell_type": "code",
   "execution_count": null,
   "metadata": {},
   "outputs": [],
   "source": []
  }
 ],
 "metadata": {
  "interpreter": {
   "hash": "8eedd8bba5cf8af416d277e5b6acb73c17c7e7766b082e155fe64db127c7a7bb"
  },
  "kernelspec": {
   "display_name": "Python 3.9.5 ('base')",
   "language": "python",
   "name": "python3"
  },
  "language_info": {
   "codemirror_mode": {
    "name": "ipython",
    "version": 3
   },
   "file_extension": ".py",
   "mimetype": "text/x-python",
   "name": "python",
   "nbconvert_exporter": "python",
   "pygments_lexer": "ipython3",
   "version": "3.9.5"
  },
  "orig_nbformat": 4
 },
 "nbformat": 4,
 "nbformat_minor": 2
}
