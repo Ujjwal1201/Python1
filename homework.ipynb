{
 "cells": [
  {
   "cell_type": "code",
   "execution_count": 2,
   "metadata": {},
   "outputs": [
    {
     "name": "stdout",
     "output_type": "stream",
     "text": [
      "gaurav harpreet Ujjwal \n"
     ]
    }
   ],
   "source": [
    "#Remove all special character & numbers from the following dtring\n",
    "from string import punctuation\n",
    "text=\"@#$%^^gaurav ,&*^harpreet %^&**Ujjwal& \"\n",
    "for p in punctuation:\n",
    "    text=text.replace(p,'')\n",
    "print(text)"
   ]
  },
  {
   "cell_type": "code",
   "execution_count": 3,
   "metadata": {},
   "outputs": [
    {
     "name": "stdout",
     "output_type": "stream",
     "text": [
      "average word length: 3.888888888888889\n"
     ]
    }
   ],
   "source": [
    "#Calculate the average length of following paragraph\n",
    "sentence=\" This is a python class just to make project \"\n",
    "words=sentence.split()\n",
    "#print(words)\n",
    "sizes=[]\n",
    "for word in words:\n",
    "    sizes.append(len(word))\n",
    "    #print(sizes)\n",
    "print(\"average word length:\",sum(sizes)/len(sizes))"
   ]
  },
  {
   "cell_type": "code",
   "execution_count": 4,
   "metadata": {},
   "outputs": [
    {
     "name": "stdout",
     "output_type": "stream",
     "text": [
      "average word length: 3.888888888888889\n"
     ]
    }
   ],
   "source": [
    "#Compressed code of above program\n",
    "sizes=[len(word) for word in sentence.split()]\n",
    "print(\"average word length:\",sum(sizes)/len(sizes))"
   ]
  },
  {
   "cell_type": "code",
   "execution_count": 6,
   "metadata": {},
   "outputs": [
    {
     "name": "stdout",
     "output_type": "stream",
     "text": [
      "not found\n"
     ]
    }
   ],
   "source": [
    "#Ask user to enter a string & check if the string contains 'fyi'\n",
    "string=input(\"Enter a string\")\n",
    "a=\"fyi\"\n",
    "if a in string:\n",
    "    print(\"found\")\n",
    "else:\n",
    "    print(\"not found\")"
   ]
  },
  {
   "cell_type": "code",
   "execution_count": 10,
   "metadata": {},
   "outputs": [
    {
     "name": "stdout",
     "output_type": "stream",
     "text": [
      "thisaye\n",
      "isaye\n",
      "someaye\n",
      "textaye\n"
     ]
    }
   ],
   "source": [
    "#In the following string, add \"aye\" in the end of every word & print the result \n",
    "text=\"this is some text\"\n",
    "z=text.split()\n",
    "for i in z:\n",
    "    print(i+\"aye\")"
   ]
  },
  {
   "cell_type": "code",
   "execution_count": 17,
   "metadata": {},
   "outputs": [
    {
     "name": "stdout",
     "output_type": "stream",
     "text": [
      "['joe,David,Mark,Tom,Cris,Robert']\n"
     ]
    }
   ],
   "source": [
    "#Extract names from string and store them in a list\n",
    "names=\"joe,David,Mark,Tom,Cris,Robert\"  \n",
    "a=names.split()\n",
    "print(a)"
   ]
  },
  {
   "cell_type": "code",
   "execution_count": 58,
   "metadata": {},
   "outputs": [
    {
     "name": "stdout",
     "output_type": "stream",
     "text": [
      "Not found\n",
      "Not found\n",
      "Not found\n",
      "Not found\n",
      "Not found\n",
      "Not found\n",
      "Not found\n",
      "Not found\n",
      "Not found\n",
      "Not found\n",
      "Not found\n",
      "Not found\n",
      "Not found\n",
      "Not found\n",
      "Not found\n",
      "Not found\n",
      "Not found\n",
      "Not found\n",
      "Not found\n",
      "Not found\n",
      "Found\n",
      "Found\n",
      "Found\n",
      "Not found\n",
      "Not found\n",
      "Not found\n"
     ]
    }
   ],
   "source": [
    "#Ask user to input string,print found if the character in upper case\n",
    "string=input(\"Enter a string\")\n",
    "for s in string:\n",
    "  if s.isupper():            #print no of times as same as occurance of uppercase character\n",
    "    print(\"Found\")\n",
    "  else:\n",
    "    print(\"Not found\")"
   ]
  },
  {
   "cell_type": "code",
   "execution_count": 28,
   "metadata": {},
   "outputs": [
    {
     "name": "stdout",
     "output_type": "stream",
     "text": [
      "this is not a string\n"
     ]
    }
   ],
   "source": [
    "#Remove the extra space from the beginning & ending of following string\n",
    "text = '    this is not a string     '\n",
    "exsp=text.strip()\n",
    "print(exsp)"
   ]
  },
  {
   "cell_type": "code",
   "execution_count": 44,
   "metadata": {},
   "outputs": [
    {
     "name": "stdout",
     "output_type": "stream",
     "text": [
      "sdncjnd\n",
      "yes, the input contain numbers\n"
     ]
    }
   ],
   "source": [
    "#Check if the user input is a number\n",
    "check=input(\"Enter the text\")\n",
    "print(check)\n",
    "if check.isnumeric:\n",
    "  print(\"yes, the input contain numbers\")\n",
    "else:\n",
    "  print(\"No,the input does not contain numbers\")\n"
   ]
  },
  {
   "cell_type": "code",
   "execution_count": 45,
   "metadata": {},
   "outputs": [
    {
     "name": "stdout",
     "output_type": "stream",
     "text": [
      "There was a one eyed monster\n"
     ]
    },
    {
     "data": {
      "text/plain": [
       "6"
      ]
     },
     "execution_count": 45,
     "metadata": {},
     "output_type": "execute_result"
    }
   ],
   "source": [
    "#Ask user to input a string and print how many times \"e\" appeared in the string\n",
    "string=\"There was a one eyed monster\"\n",
    "print(string)\n",
    "string.count(\"e\")"
   ]
  },
  {
   "cell_type": "code",
   "execution_count": 52,
   "metadata": {},
   "outputs": [
    {
     "name": "stdout",
     "output_type": "stream",
     "text": [
      "The final destination is heaven\n",
      "No,the sentence does not ends with ?\n"
     ]
    }
   ],
   "source": [
    "#Ask user to input a string & check if the string ends with \"?\"\n",
    "s = input(\"Enter the text\")\n",
    "print(s)\n",
    "if s.endswith(\"?\"):\n",
    "    print(\"Yes, the sentence ends with ?\")\n",
    "else:\n",
    "    print(\"No,the sentence does not ends with ?\")\n"
   ]
  },
  {
   "cell_type": "code",
   "execution_count": 62,
   "metadata": {},
   "outputs": [
    {
     "name": "stdout",
     "output_type": "stream",
     "text": [
      "Elephant\n",
      "is\n",
      "a\n",
      "huge\n",
      "animal\n"
     ]
    }
   ],
   "source": [
    "#Ask user to enter a string and print each word in different line\n",
    "c=input(\"Enter the text\")\n",
    "for i in c.split():   \n",
    "  print(i)"
   ]
  },
  {
   "cell_type": "code",
   "execution_count": 4,
   "metadata": {},
   "outputs": [
    {
     "name": "stdout",
     "output_type": "stream",
     "text": [
      "1.\n",
      "2.\n",
      "3.\n",
      "4.\n",
      "5.\n",
      "6.\n",
      "7.\n",
      "8.\n",
      "9.\n"
     ]
    }
   ],
   "source": [
    "#Print numbers from 1 to 9,each on the separate line followed by dot,output should look like the following\n",
    "1.\n",
    "2.\n",
    "3.\n",
    "\n",
    "for i in range(1,10):\n",
    "    print(i,end=\".\")\n",
    "    print()\n",
    "    \n",
    "\n"
   ]
  },
  {
   "cell_type": "code",
   "execution_count": 10,
   "metadata": {},
   "outputs": [
    {
     "name": "stdout",
     "output_type": "stream",
     "text": [
      "####################\n"
     ]
    }
   ],
   "source": [
    "#Print # 20 times without using loop\n",
    "k='#'\n",
    "print(k*20)"
   ]
  },
  {
   "cell_type": "code",
   "execution_count": 23,
   "metadata": {},
   "outputs": [
    {
     "name": "stdout",
     "output_type": "stream",
     "text": [
      "Python is great \n"
     ]
    }
   ],
   "source": [
    "#Concatenate the following string & print the result s1=\"Python\" s2=\"is\" s3=\"great\"\n",
    "s1=\"Python \"\n",
    "s2=\"is \"\n",
    "s3=\"great \"\n",
    "print(s1+s2+s3) "
   ]
  },
  {
   "cell_type": "code",
   "execution_count": 25,
   "metadata": {},
   "outputs": [
    {
     "name": "stdout",
     "output_type": "stream",
     "text": [
      "the variable is 15\n"
     ]
    }
   ],
   "source": [
    "#Print the variable with some text using a single print function,output should look like => the variable is 15\n",
    "n=\"15\"\n",
    "print(\"the variable is\",n)"
   ]
  },
  {
   "cell_type": "code",
   "execution_count": 38,
   "metadata": {},
   "outputs": [
    {
     "data": {
      "text/plain": [
       "\"to move to new line '\\n' is used\""
      ]
     },
     "execution_count": 38,
     "metadata": {},
     "output_type": "execute_result"
    }
   ],
   "source": [
    "#Print the string=> \"to move to new line \"\\n\" is used\".(result should look exactly like the provided string)\n",
    "p= (\"to move to new line '\\n' is used\")\n",
    "#print(P)\n",
    "p"
   ]
  },
  {
   "cell_type": "code",
   "execution_count": 40,
   "metadata": {},
   "outputs": [
    {
     "name": "stdout",
     "output_type": "stream",
     "text": [
      "Good afternoon\n",
      "This is Ujjwal Shukla\n",
      "you can call me Ujjwal\n",
      "glad to meet you\n"
     ]
    }
   ],
   "source": [
    "#Print multiple line string using single print\n",
    "l='''Good afternoon\n",
    "This is Ujjwal Shukla\n",
    "you can call me Ujjwal\n",
    "glad to meet you'''\n",
    "print(l)"
   ]
  },
  {
   "cell_type": "code",
   "execution_count": 42,
   "metadata": {},
   "outputs": [
    {
     "name": "stdout",
     "output_type": "stream",
     "text": [
      "Python is easy to learn "
     ]
    }
   ],
   "source": [
    "#Join the following list by spaces() & print the result.=> words=[\"Python\",\"is\",\"easy \",\"to\",\"learn\"]\n",
    "words=[\"Python\",\"is\",\"easy\",\"to\",\"learn\"]\n",
    "for word in words:\n",
    "    print(word,end=\" \")"
   ]
  },
  {
   "cell_type": "code",
   "execution_count": 43,
   "metadata": {},
   "outputs": [
    {
     "name": "stdout",
     "output_type": "stream",
     "text": [
      "how it is going\n"
     ]
    }
   ],
   "source": [
    "#Convert the string\"HOW IT IS GOING\" to lower case\n",
    "string=\"HOW IT IS GOING\"\n",
    "print (string.lower())"
   ]
  },
  {
   "cell_type": "code",
   "execution_count": 44,
   "metadata": {},
   "outputs": [
    {
     "name": "stdout",
     "output_type": "stream",
     "text": [
      "HOW ARE YOU\n"
     ]
    }
   ],
   "source": [
    "#Convert the string \"how are you\" in upper case\n",
    "string=\"how are you\"\n",
    "print(string.upper())"
   ]
  },
  {
   "cell_type": "code",
   "execution_count": 46,
   "metadata": {},
   "outputs": [
    {
     "name": "stdout",
     "output_type": "stream",
     "text": [
      "dlrow olleH\n"
     ]
    }
   ],
   "source": [
    "#Print the string Hello word! in reverse\n",
    "x=\"Hello world\"\n",
    "print(x[::-1])"
   ]
  },
  {
   "cell_type": "code",
   "execution_count": 48,
   "metadata": {},
   "outputs": [
    {
     "name": "stdout",
     "output_type": "stream",
     "text": [
      "Python\n",
      "is\n",
      "everywhere\n"
     ]
    }
   ],
   "source": [
    "#Print each word in different line=> Python is everywhere\n",
    "z=\"Python is everywhere\"\n",
    "for i in z.split():\n",
    "    print(i)"
   ]
  },
  {
   "cell_type": "code",
   "execution_count": 49,
   "metadata": {},
   "outputs": [
    {
     "name": "stdout",
     "output_type": "stream",
     "text": [
      "great\n"
     ]
    }
   ],
   "source": [
    "#Print the last word of string \"Python is Great\" using slices\n",
    "s=\"Python is great\"\n",
    "print(s[-5:])"
   ]
  },
  {
   "cell_type": "code",
   "execution_count": 50,
   "metadata": {},
   "outputs": [
    {
     "name": "stdout",
     "output_type": "stream",
     "text": [
      "34\n"
     ]
    }
   ],
   "source": [
    "#Take the input & print its length\n",
    "v=(\"Hindi is the mothertongue of INDIA\")\n",
    "print(len(v))"
   ]
  },
  {
   "cell_type": "code",
   "execution_count": 51,
   "metadata": {},
   "outputs": [
    {
     "name": "stdout",
     "output_type": "stream",
     "text": [
      "Good Evening\n"
     ]
    }
   ],
   "source": [
    "#Create a string & print it\n",
    "n=(\"Good Evening\")\n",
    "print(n)"
   ]
  },
  {
   "cell_type": "code",
   "execution_count": null,
   "metadata": {},
   "outputs": [],
   "source": []
  }
 ],
 "metadata": {
  "interpreter": {
   "hash": "8eedd8bba5cf8af416d277e5b6acb73c17c7e7766b082e155fe64db127c7a7bb"
  },
  "kernelspec": {
   "display_name": "Python 3.9.5 ('base')",
   "language": "python",
   "name": "python3"
  },
  "language_info": {
   "codemirror_mode": {
    "name": "ipython",
    "version": 3
   },
   "file_extension": ".py",
   "mimetype": "text/x-python",
   "name": "python",
   "nbconvert_exporter": "python",
   "pygments_lexer": "ipython3",
   "version": "3.9.5"
  },
  "orig_nbformat": 4
 },
 "nbformat": 4,
 "nbformat_minor": 2
}
