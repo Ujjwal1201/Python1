{
 "cells": [
  {
   "cell_type": "code",
   "execution_count": 2,
   "metadata": {},
   "outputs": [],
   "source": [
    "import os   "
   ]
  },
  {
   "cell_type": "code",
   "execution_count": 3,
   "metadata": {},
   "outputs": [
    {
     "ename": "ModuleNotFoundError",
     "evalue": "No module named 'bjdh'",
     "output_type": "error",
     "traceback": [
      "\u001b[1;31m---------------------------------------------------------------------------\u001b[0m",
      "\u001b[1;31mModuleNotFoundError\u001b[0m                       Traceback (most recent call last)",
      "\u001b[1;32md:\\Python\\pre_defined_functions.ipynb Cell 2'\u001b[0m in \u001b[0;36m<module>\u001b[1;34m\u001b[0m\n\u001b[1;32m----> <a href='vscode-notebook-cell:/d%3A/Python/pre_defined_functions.ipynb#ch0000001?line=0'>1</a>\u001b[0m \u001b[39mimport\u001b[39;00m \u001b[39mbjdh\u001b[39;00m\n",
      "\u001b[1;31mModuleNotFoundError\u001b[0m: No module named 'bjdh'"
     ]
    }
   ],
   "source": [
    "import bjdh"
   ]
  },
  {
   "cell_type": "code",
   "execution_count": 8,
   "metadata": {},
   "outputs": [
    {
     "data": {
      "text/plain": [
       "'d:\\\\Python'"
      ]
     },
     "execution_count": 8,
     "metadata": {},
     "output_type": "execute_result"
    }
   ],
   "source": [
    "os.getcwd() #Display the current working directory"
   ]
  },
  {
   "cell_type": "code",
   "execution_count": 11,
   "metadata": {},
   "outputs": [],
   "source": [
    "if os.path.exists(\"codes\"):\n",
    "    print(\"The directory exists\")\n",
    "else:\n",
    "    os.mkdir(\"codes\")"
   ]
  },
  {
   "cell_type": "code",
   "execution_count": 12,
   "metadata": {},
   "outputs": [
    {
     "data": {
      "text/plain": [
       "['.git',\n",
       " '.gitattributes',\n",
       " 'Basics.ipynb',\n",
       " 'Condition.ipynb',\n",
       " 'dictionaries.ipynb',\n",
       " 'Hello.py',\n",
       " 'homework.ipynb',\n",
       " 'IO.ipynb',\n",
       " 'list.advance.ipynb',\n",
       " 'list.ipynb',\n",
       " 'loop.ipynb',\n",
       " 'pre_defined_functions.ipynb',\n",
       " 'tuple.ipynb']"
      ]
     },
     "execution_count": 12,
     "metadata": {},
     "output_type": "execute_result"
    }
   ],
   "source": [
    "os.listdir()"
   ]
  },
  {
   "cell_type": "code",
   "execution_count": 17,
   "metadata": {},
   "outputs": [
    {
     "name": "stdout",
     "output_type": "stream",
     "text": [
      "116items in the directory\n",
      "['addins', 'appcompat', 'apppatch', 'AppReadiness', 'assembly', 'bcastdvr', 'bfsvc.exe', 'Boot', 'bootstat.dat', 'Branding', 'BrowserCore', 'CbsTemp', 'comsetup.log', 'Containers', 'Core.xml', 'CoreSingleLanguage.xml', 'CSUP.txt', 'Cursors', 'debug', 'diagerr.xml', 'diagnostics', 'DiagTrack', 'diagwrn.xml', 'DigitalLocker', 'Downloaded Program Files', 'DtcInstall.log', 'ELAMBKUP', 'en-US', 'explorer.exe', 'Firmware', 'Fonts', 'GameBarPresenceWriter', 'Globalization', 'Help', 'HelpPane.exe', 'hh.exe', 'HoloShell', 'HP', 'HPCUST1.exe', 'HPCUST2.exe', 'IdentityCRL', 'IME', 'ImmersiveControlPanel', 'INF', 'InputMethod', 'Installer', 'L2Schemas', 'LanguageOverlayCache', 'LiveKernelReports', 'Logs', 'lsasetup.log', 'Media', 'mib.bin', 'Microsoft.NET', 'Migration', 'ModemLogs', 'msdownld.tmp', 'notepad.exe', 'NvContainerRecovery.bat', 'OCR', 'Offline Web Pages', 'OMENSDK_Ver.exe', 'Panther', 'Performance', 'PFRO.log', 'PLA', 'PolicyDefinitions', 'Prefetch', 'PrintDialog', 'Provisioning', 'regedit.exe', 'Registration', 'rescache', 'Resources', 'SchCache', 'schemas', 'security', 'ServiceProfiles', 'ServiceState', 'servicing', 'Setup', 'setupact.log', 'setuperr.log', 'ShellComponents', 'ShellExperiences', 'SKB', 'SoftwareDistribution', 'Speech', 'Speech_OneCore', 'splwow64.exe', 'System', 'system.ini', 'System32', 'SystemApps', 'SystemResources', 'SystemTemp', 'SysWOW64', 'TAPI', 'Tasks', 'Temp', 'TextInput', 'tracing', 'twain_32', 'twain_32.dll', 'UUS', 'Vss', 'WaaS', 'Web', 'win.ini', 'WindowsShell.Manifest', 'WindowsUpdate.log', 'winhlp32.exe', 'WinSxS', 'WMSysPr9.prx', 'write.exe', 'WUModels']\n"
     ]
    }
   ],
   "source": [
    "window_content=os.listdir(\"c:/windows\")\n",
    "print(f'{len(window_content)}items in the directory')\n",
    "print(window_content)"
   ]
  },
  {
   "cell_type": "code",
   "execution_count": 26,
   "metadata": {},
   "outputs": [],
   "source": [
    "desk=os.listdir(\"C:/Users/Ujjwal/OneDrive/Pictures/Camera Roll\")"
   ]
  },
  {
   "cell_type": "code",
   "execution_count": 28,
   "metadata": {},
   "outputs": [],
   "source": [
    "pictures=os.listdir(\"C:\\\\Users\\\\Ujjwal\\\\OneDrive\\\\Pictures\\\\Screenshots\")"
   ]
  },
  {
   "cell_type": "code",
   "execution_count": 29,
   "metadata": {},
   "outputs": [
    {
     "data": {
      "text/plain": [
       "('2022-03-04', '.png')"
      ]
     },
     "execution_count": 29,
     "metadata": {},
     "output_type": "execute_result"
    }
   ],
   "source": [
    "os.path.splitext(pictures[0])"
   ]
  },
  {
   "cell_type": "code",
   "execution_count": 32,
   "metadata": {},
   "outputs": [
    {
     "name": "stdout",
     "output_type": "stream",
     "text": [
      "[]\n"
     ]
    }
   ],
   "source": [
    "png_pictures=[file for file in pictures if file.endswith(\",png\")]\n",
    "print(png_pictures)     #[] means no item is in picture directory"
   ]
  },
  {
   "cell_type": "code",
   "execution_count": 35,
   "metadata": {},
   "outputs": [],
   "source": [
    "import requests  # brings data from online directories\n",
    "page=requests.get(\"https://www.tutorialspoint.com/pyqt/pyqt_introduction.htm\")\n"
   ]
  },
  {
   "cell_type": "code",
   "execution_count": 36,
   "metadata": {},
   "outputs": [
    {
     "name": "stdout",
     "output_type": "stream",
     "text": [
      "<Response [200]>\n"
     ]
    }
   ],
   "source": [
    "print(page)         #200 means success"
   ]
  },
  {
   "cell_type": "code",
   "execution_count": 37,
   "metadata": {},
   "outputs": [
    {
     "data": {
      "text/plain": [
       "'<!DOCTYPE html>\\r\\n<html lang=\"en-US\">\\r\\n<head>\\r\\n<title>PyQt - Introduction</title>\\r\\n<meta charset=\"utf-8\">\\r\\n<meta name=\"description\" content=\"PyQt - Introduction,  PyQt is a GUI widgets toolkit. It is a Python interface for Qt, one of the most powerful, and popular cross-platform GUI library. PyQt was developed by RiverBan\"/>\\r\\n<meta name=\"keywords\" content=\"C, C++, Python, Java, HTML, CSS, JavaScript, SQL, PHP, jQuery, XML, DOM, Bootstrap, Tutorials, Articles, Programming, training, learning, quiz, preferences, examples, code\"/>\\r\\n<link rel=\"canonical\" href=\"https://www.tutorialspoint.com/pyqt/pyqt_introduction.htm\" />\\r\\n<link rel=\"shortcut icon\" href=\"/favicon.ico\" type=\"image/x-icon\" />\\n<meta name=\"viewport\" content=\"width=device-width,initial-scale=1.0,user-scalable=yes\">\\n<link rel=\"stylesheet\" href=\"/themes/css/style-min-v1.css?v=5.4\">\\n<script src=\"/themes/js/prism-core.min.js\"></script>\\n<script src=\"/themes/js/prism-autoloader.min.js\"></script>\\n<script src=\"/themes/js/script-min-v1.js?v=5.4\"></script>\\n<script>\\nfunction printPage() { window.print(); }\\nfunction readCookie(name) {\\n     var nameEQ = name + \"=\";\\n     var ca = document.cookie.split(\\';\\');\\n     for (var i = 0; i < ca.length; i++) {\\n          var c = ca[i];\\n          while (c.charAt(0) == \\' \\') c = c.substring(1, c.length);\\n          if (c.indexOf(nameEQ) == 0) return c.substring(nameEQ.length, c.length);\\n     }\\n     return null;\\n}\\n</script>\\n<script id=\"adp1\" data-cfasync=\"false\">(function(w, d) { var s = d.createElement(\\'script\\'); s.src = \\'//cdn.adpushup.com/40046/adpushup.js\\'; s.type = \\'text/javascript\\'; s.async = true; (d.getElementsByTagName(\\'head\\')[0] || d.getElementsByTagName(\\'body\\')[0]).appendChild(s); })(window, document);</script>\\n<script id=\"adp2\" data-cfasync=\"false\">(function(w, d) {var cval = readCookie(\\'subscription_purchased\\');if(cval == \\'1\\'){ return; } var s = d.createElement(\\'script\\'); s.src = \\'//delivery.adrecover.com/18107/adRecover.js\\'; s.type = \\'text/javascript\\'; s.async = true; (d.getElementsByTagName(\\'head\\')[0] || d.getElementsByTagName(\\'body\\')[0]).appendChild(s); })(window, document);</script>\\n<style>\\n.butnn-save a{color:#fff;} .notes_msg{color:green; margin-left:20px; margin-top:15px;}\\n.right-menu .mui-btn {\\n    background-color:#519B0C;\\n}\\na.demo {\\n    background:#519B0C;\\n}\\nli.heading {\\n    background:#519B0C;\\n}\\n.course-box{background:#519B0C}\\n.home-intro-sub p{color:#519B0C}\\na.demo{\\n   top: 12px;\\n   float:right;\\n}\\n.prettyprint{\\n   width: 99%;\\n}\\n.site-message img {\\n   width:100%;\\n}\\n@media (max-width:544px){\\n   .site-message img {\\n       width: 200%;\\n       position: relative;\\n       left: -50%;\\n   }\\n}\\n</style>\\n</head>\\n<body>\\n<header id=\"header\">\\n<div class=\"site-message\">\\n  <a href=\"https://www.tutorialspoint.com/latest/prime-packs\">\\n  <img src=\"https://www.tutorialspoint.com/market/public/assets/images/top-banner.jpg?v=1.6\" alt=\"Video Courses Sale\"/>\\n  </a>\\n</div>\\n<!-- pop-up -->\\n<!-- pop-up -->\\n<div class=\"pop-modal overlay-pop popdiv\">\\n<div class=\"modal-window small\">\\n<span class=\"close\" title=\"close\">×</span>\\n<div class=\"pop-content\">\\n</div>\\n<span class=\"msg\" ></span>\\n</div>\\n</div>\\n<div class=\"wrap_loader\">\\n<div class=\"imgLoader\"></div>\\n</div>\\n<input type=\"hidden\" id=\"vu\" name=\"vu\" value=\"\" />\\n<!-- pop-up -->\\n\\n<!-- Top sub-menu Starts Here -->\\n<div class=\"mui-appbar mui-container-fulid top-menu\">\\n<div class=\"mui-container\">\\n<div class=\"top-menu-item home\">\\n<a href=\"https://www.tutorialspoint.com/index.htm\" target=\"_blank\" title=\"TutorialsPoint - Home\"><i class=\"fal fa-home\"></i> <span>Home</span></a>\\n</div>\\n<div class=\"top-menu-item qa\">\\n<a href=\"https://www.tutorialspoint.com/about/about_careers.htm\" target=\"_blank\" title=\"Job @ Tutorials Point\"><i class=\"fa fa-suitcase\"></i> <span>Jobs</span></a>\\n</div>\\n<div class=\"top-menu-item tools\">\\n<a href=\"https://www.tutorialspoint.com/online_dev_tools.htm\" target=\"_blank\" title=\"Tools - Online Development and Testing Tools\"><i class=\"fal fa-cogs\"></i> <span>Tools</span></a>\\n</div>\\n<div class=\"top-menu-item coding-ground\">\\n<a href=\"https://www.tutorialspoint.com/codingground.htm\" target=\"_blank\" title=\"Coding Ground - Free Online IDE and Terminal\"><i class=\"fal fa-code\"></i> <span>Coding Ground </span></a> \\n</div>\\n<div class=\"top-menu-item current-affairs\">\\n<a href=\"https://www.tutorialspoint.com/current_affairs.htm\" target=\"_blank\" title=\"Daily Current Affairs\"><i class=\"fal fa-layer-plus\"></i> <span>Current Affairs</span></a>\\n</div>\\n<div class=\"top-menu-item upsc-notes\">\\n<a href=\"https://www.tutorialspoint.com/upsc_ias_exams.htm\" target=\"_blank\" title=\"UPSC IAS Exams Notes - TutorialsPoint\"><i class=\"fal fa-user-tie\"></i> <span>UPSC Notes</span></a>\\n</div>      \\n<div class=\"top-menu-item articles\">\\n<a href=\"https://www.tutorialspoint.com/tutor_connect/index.php\" target=\"_blank\" title=\"Top Online Tutors - Tutor Connect\"><i class=\"fal fa-user\"></i> <span>Online Tutors</span></a>\\n</div>\\n<div class=\"top-menu-item whiteboard\">\\n<a href=\"https://www.tutorialspoint.com/whiteboard.htm\" target=\"_blank\" title=\"Free Online Whiteboard\"><i class=\"fal fa-chalkboard\"></i> <span>Whiteboard</span></a>\\n</div>\\n<div class=\"top-menu-item articles\">\\n<a href=\"https://www.tutorix.com\" target=\"_blank\" title=\"Tutorx - The Best Learning App\" rel=\"nofollow\"><i class=\"fal fa-video\"></i> <span>Tutorix</span></a> \\n</div>\\n<div class=\"top-menu-item net-meeting\">\\n<a href=\"https://www.tutorialspoint.com/market/login.asp?v=4.00\" target=\"_blank\" title=\"Login TutorialsPoint\"><i class=\"fal fa-sign-in-alt\"></i> <span>Login</span></a> \\n</div>      \\n<div class=\"social-menu-item\">\\n<a href=\"https://www.facebook.com/tutorialspointindia\" target=\"_blank\" rel=\"nofollow\" data-placement=\"bottom\" title=\"tutorialspoint @ Facebook\"><i class=\"fab fa-facebook-f\"></i></a> \\n<a href=\"https://www.twitter.com/tutorialspoint\" target=\"_blank\" rel=\"nofollow\" data-placement=\"bottom\" title=\"tutorialspoint @ Twitter\"><i class=\"fab fa-twitter\"></i></a>\\n<a href=\"https://www.linkedin.com/company/tutorialspoint\" target=\"_blank\" rel=\"nofollow\" data-placement=\"bottom\" title=\"tutorialspoint @ Linkedin\"><i class=\"fab fa-linkedin-in\"></i></a>\\n<a href=\"https://www.youtube.com/channel/UCVLbzhxVTiTLiVKeGV7WEBg\" target=\"_blank\" rel=\"nofollow\" data-placement=\"bottom\" title=\"tutorialspoint YouTube\"><i class=\"fab fa-youtube\"></i></a>\\n</div>        \\n</div>\\n</div>\\n<!-- Top sub-menu Ends Here -->\\n<!-- Top main-menu Starts Here -->\\n<div class=\"mui-appbar mui-container-fulid mui--appbar-line-height mui--z1\" id=\"logo-menu\">\\n<div class=\"mui-container\">\\n<div class=\"left-menu\">\\n<a href=\"https://www.tutorialspoint.com/index.htm\" title=\"Tutorialspoint\">\\n<img class=\"tp-logo\" alt=\"tutorialspoint\" src=\"/pyqt/images/logo.png\">\\n</a>\\n<div class=\"mui-dropdown\">\\n<a class=\"mui-btn mui-btn--primary categories\" data-mui-toggle=\"dropdown\"><i class=\"fa fa-th-large\"></i> \\n<span>Categories <span class=\"mui-caret\"></span></span></a>            \\n<ul class=\"mui-dropdown__menu cat-menu\">\\n<li>\\n<ul>\\n<li><a href=\"/academic_tutorials.htm\"><i class=\"fa fa-caret-right\"></i> Academic Tutorials</a></li>\\n<li><a href=\"/big_data_tutorials.htm\"><i class=\"fa fa-caret-right\"></i> Big Data &amp; Analytics </a></li>\\n<li><a href=\"/computer_programming_tutorials.htm\"><i class=\"fa fa-caret-right\"></i> Computer Programming </a></li>\\n<li><a href=\"/computer_science_tutorials.htm\"><i class=\"fa fa-caret-right\"></i> Computer Science </a></li>\\n<li><a href=\"/database_tutorials.htm\"><i class=\"fa fa-caret-right\"></i> Databases </a></li>\\n<li><a href=\"/devops_tutorials.htm\"><i class=\"fa fa-caret-right\"></i> DevOps </a></li>\\n<li><a href=\"/digital_marketing_tutorials.htm\"><i class=\"fa fa-caret-right\"></i> Digital Marketing </a></li>\\n<li><a href=\"/engineering_tutorials.htm\"><i class=\"fa fa-caret-right\"></i> Engineering Tutorials </a></li>\\n<li><a href=\"/upsc_ias_exams.htm\"><i class=\"fa fa-caret-right\"></i> Exams Syllabus </a></li>\\n<li><a href=\"/famous_monuments.htm\"><i class=\"fa fa-caret-right\"></i> Famous Monuments </a></li>\\n<li><a href=\"/gate_exams_tutorials.htm\"><i class=\"fa fa-caret-right\"></i> GATE Exams Tutorials</a></li>\\n<li><a href=\"/latest_technologies.htm\"><i class=\"fa fa-caret-right\"></i> Latest Technologies </a></li>\\n<li><a href=\"/machine_learning_tutorials.htm\"><i class=\"fa fa-caret-right\"></i> Machine Learning </a></li>\\n<li><a href=\"/mainframe_tutorials.htm\"><i class=\"fa fa-caret-right\"></i> Mainframe Development </a></li>\\n<li><a href=\"/management_tutorials.htm\"><i class=\"fa fa-caret-right\"></i> Management Tutorials </a></li>\\n<li><a href=\"/maths_tutorials.htm\"><i class=\"fa fa-caret-right\"></i> Mathematics Tutorials</a></li>\\n<li><a href=\"/microsoft_technologies_tutorials.htm\"><i class=\"fa fa-caret-right\"></i> Microsoft Technologies </a></li>\\n<li><a href=\"/misc_tutorials.htm\"><i class=\"fa fa-caret-right\"></i> Misc tutorials </a></li>\\n<li><a href=\"/mobile_development_tutorials.htm\"><i class=\"fa fa-caret-right\"></i> Mobile Development </a></li>\\n<li><a href=\"/java_technology_tutorials.htm\"><i class=\"fa fa-caret-right\"></i> Java Technologies </a></li>\\n<li><a href=\"/python_technologies_tutorials.htm\"><i class=\"fa fa-caret-right\"></i> Python Technologies </a></li>\\n<li><a href=\"/sap_tutorials.htm\"><i class=\"fa fa-caret-right\"></i> SAP Tutorials </a></li>\\n<li><a href=\"/scripting_lnaguage_tutorials.htm\"><i class=\"fa fa-caret-right\"></i>Programming Scripts </a></li>\\n<li><a href=\"/selected_reading.htm\"><i class=\"fa fa-caret-right\"></i> Selected Reading </a></li>\\n<li><a href=\"/software_quality_tutorials.htm\"><i class=\"fa fa-caret-right\"></i> Software Quality </a></li>\\n<li><a href=\"/soft_skill_tutorials.htm\"><i class=\"fa fa-caret-right\"></i> Soft Skills </a></li>\\n<li><a href=\"/telecom_tutorials.htm\"><i class=\"fa fa-caret-right\"></i> Telecom Tutorials </a></li>\\n<li><a href=\"/upsc_ias_exams.htm\"><i class=\"fa fa-caret-right\"></i> UPSC IAS Exams </a></li>\\n<li><a href=\"/web_development_tutorials.htm\"><i class=\"fa fa-caret-right\"></i> Web Development </a></li>\\n<li><a href=\"/sports_tutorials.htm\"><i class=\"fa fa-caret-right\"></i> Sports Tutorials </a></li>\\n<li><a href=\"/xml_technologies_tutorials.htm\"><i class=\"fa fa-caret-right\"></i> XML Technologies </a></li>\\n<li><a href=\"/multi_language_tutorials.htm\"><i class=\"fa fa-caret-right\"></i> Multi-Language</a></li>\\n<li><a href=\"/questions_and_answers.htm\"><i class=\"fa fa-caret-right\"></i> Interview Questions</a></li>\\n</ul>\\n</li>\\n</ul>\\n<div class=\"clear\"></div>\\n</div> \\n</div>\\n<div class=\"right-menu\">\\n<div class=\"toc-toggle\">\\n<a href=\"javascript:void(0);\"><i class=\"fa fa-bars\"></i></a>\\n</div>\\n<div class=\"mobile-search-btn\">\\n<a href=\"https://www.tutorialspoint.com/index.htm\"><i class=\"fal fa-search\"></i></a>\\n</div>\\n<div class=\"search-box-wrap\">\\n\\t<div class=\"search-box\" style=\"\">\\n\\t\\t<div>\\n\\t\\t\\t<input class=\"input\" type=\"text\" id=\"search-strings\" name=\"key\" placeholder=\"Search latest courses, ebooks and prime packs...\" autocomplete=\"off\">\\n\\t\\t\\t<button id=\"btnSearch\"><i class=\"fa fa-search\" title=\"Search\"></i></button>\\n\\t\\t</div>\\n\\t</div>\\t\\t\\n\\t<div class=\"search-box\" id=\"search-results\"></div>\\n\\t<div class=\"clear\"></div>\\n\\t<script>\\n\\t\\t$(\\'#search-strings\\').keyup(function () {\\n\\t\\t\\tvar keyword = $(\\'#search-strings\\').val();\\n\\t\\t\\tif (keyword != \"\" && keyword.length > 2) {\\n\\t\\t\\t\\t$.ajax({\\n\\t\\t\\t\\t\\turl:\"https://search.tutorialspoint.com/market_urls_suggestion.php\",\\n\\t\\t\\t\\t\\tmethod: \"POST\",\\n               type: \\'POST\\',\\n\\t\\t\\t\\t\\tdataType: \"json\",\\n               cache:false,\\n\\t\\t\\t\\t\\tdata: {\\n\\t\\t\\t\\t\\t\\t\\'keyword\\': keyword\\n\\t\\t\\t\\t\\t},\\n\\t\\t\\t\\t\\terror: function (err) {\\n\\t\\t\\t\\t\\t\\tconsole.log ( err );\\n\\t\\t\\t\\t\\t},\\n\\t\\t\\t\\t\\tsuccess: function (data) {\\n\\t\\t\\t\\t\\t\\tif (data.length > 0) {\\n\\t\\t\\t\\t\\t//var str = \\'<div class=\"search_title arrow_search\">Search Results</div><ul>\\';\\n\\t\\t\\t\\t\\tvar str = \\'<div class=\"search-overlay\"><ul>\\';\\n\\t\\t\\t\\t\\tdata.forEach((item) => {\\n\\t\\t\\t\\t\\t   var iconStr = \\'<i class=\"fa fa-play-circle\"></i>\\';\\n\\t\\t\\t\\t\\t   if(item.type==\\'E\\'){\\n\\t\\t\\t\\t\\t\\t  iconStr = \\'<i class=\"fa fa-file-pdf\"></i>\\';\\n\\t\\t\\t\\t\\t   }\\n\\t\\t\\t\\t\\t   if(item.type==\\'B\\'){\\n\\t\\t\\t\\t\\t\\t  iconStr = \\'<i class=\"fa fa-cubes\"></i>\\';\\n\\t\\t\\t\\t\\t   }\\n\\t\\t\\t\\t\\t   if(item.type==\\'A\\' || item.type==\\'I\\' || item.type==\\'P\\'){ // profile/author/instructor\\n\\t\\t\\t\\t\\t\\t  iconStr = \\'<i class=\"fa fa-user\"></i>\\';\\n\\t\\t\\t\\t\\t   }\\n\\t\\t\\t\\t\\t   str = str + \\'<a href=\"\\'+item.url+\\'\" target=\"_blank\"><li class=\"clsHeadQuestion\">\\'+iconStr+\\' \\'+item.name+\\'</li></a>\\'; \\n\\t\\t\\t\\t\\t});\\n\\t\\t\\t\\t\\tstr = str + \\'</ul><br/></div><div class=\"clear\"></div>\\';\\n\\t\\t\\t\\t\\t\\t\\t$(\\'#search-results\\').show();\\n\\t\\t\\t\\t\\t\\t\\t$(\\'#search-results\\').html(str);\\n\\t\\t\\t\\t\\t\\t} else {\\n\\t\\t\\t\\t\\t\\t\\t$(\\'#search-results\\').hide();\\n\\t\\t\\t\\t\\t\\t\\t$(\\'#search-results\\').html(\\'\\');\\n\\t\\t\\t\\t\\t\\t}\\n\\t\\t\\t\\t\\t}\\n\\t\\t\\t\\t});\\n\\t\\t\\t}else{\\n\\t\\t\\t\\t$(\\'#search-results\\').hide();\\n\\t\\t\\t\\t$(\\'#search-results\\').html(\\'\\');\\n\\t\\t\\t}\\n\\t\\t});\\n\\t $(\\'#btnSearch\\').click(function(){\\n\\t\\t   var keyword = $(\\'#search-strings\\').val();\\n\\t\\t   window.location.href = \"https://www.tutorialspoint.com/search/\"+keyword;\\n\\t });\\n\\t $(document).mouseup(function(e) \\n\\t {\\n\\t\\t var container = $(\\'#search-results\\');            \\n\\t\\t if (!container.is(e.target) && container.has(e.target).length === 0) \\n\\t\\t {\\n\\t\\t\\t container.hide();\\n\\t\\t }\\n\\t });\\n\\t</script>\\n</div>\\n<div class=\"menu-btn videos-btn\">\\n<a href=\"https://www.tutorialspoint.com/questions/index.php\"><i class=\"fa fa-location-arrow\"></i> <span>Q/A</span></a>\\n</div>\\n<div class=\"menu-btn library-btn\">\\n<a href=\"https://www.tutorialspoint.com/tutorialslibrary.htm\"><i class=\"fa fa-books\"></i> <span>Library</span></a>\\n</div>\\n<div class=\"menu-btn ebooks-btn\">\\n<a href=\"https://www.tutorialspoint.com/latest/ebooks\"><i class=\"fa fa-book-reader\"></i> <span>eBooks</span></a>\\n</div>\\n<div class=\"menu-btn videos-btn\">\\n<a href=\"https://www.tutorialspoint.com/latest/courses\"><i class=\"fa fa-video\"></i> <span>Courses</span></a> \\n</div>\\n</div>\\n</div>\\n</div>\\n<!-- Top main-menu Ends Here -->\\n</header>\\n<div class=\"mui-container-fluid content\">\\r\\n<div class=\"mui-container\">\\r\\n<!-- Tutorial ToC Starts Here -->\\r\\n<div class=\"mui-col-md-3 tutorial-toc\">\\r\\n<div class=\"mini-logo\">\\r\\n<img src=\"/pyqt/images/pyqt-mini-logo.jpg\" alt=\"PyQt Tutorial\" />\\r\\n</div>\\r\\n<ul class=\"toc chapters\" >\\r\\n<li class=\"heading\">PyQt Tutorial</li>\\r\\n<li><a href=\"/pyqt/index.htm\">PyQt - Home</a></li>\\r\\n<li><a href=\"/pyqt/pyqt_introduction.htm\">PyQt - Introduction</a></li>\\r\\n<li><a href=\"/pyqt/pyqt_hello_world.htm\">PyQt - Hello World</a></li>\\r\\n<li><a href=\"/pyqt/pyqt_major_classes.htm\">PyQt - Major Classes</a></li>\\r\\n<li><a href=\"/pyqt/pyqt_using_qt_designer.htm\">PyQt - Using Qt Designer</a></li>\\r\\n<li><a href=\"/pyqt/pyqt_signals_and_slots.htm\">PyQt - Signals and Slots</a></li>\\r\\n<li><a href=\"/pyqt/pyqt_layout_management.htm\">PyQt - Layout Management</a></li>\\r\\n<li><a href=\"/pyqt/pyqt_basic_widgets.htm\">PyQt - Basic Widgets</a></li>\\r\\n<li><a href=\"/pyqt/pyqt_qdialog_class.htm\">PyQt - QDialog Class</a></li>\\r\\n<li><a href=\"/pyqt/pyqt_qmessagebox.htm\">PyQt - QMessageBox</a></li>\\r\\n<li><a href=\"/pyqt/pyqt_multiple_document_interface.htm\">PyQt - Multiple Document Interface</a></li>\\r\\n<li><a href=\"/pyqt/pyqt_drag_and_drop.htm\">PyQt - Drag and Drop</a></li>\\r\\n<li><a href=\"/pyqt/pyqt_database_handling.htm\">PyQt - Database Handling</a></li>\\r\\n<li><a href=\"/pyqt/pyqt_drawing_api.htm\">PyQt - Drawing API</a></li>\\r\\n<li><a href=\"/pyqt/pyqt_brushstyle_constants.htm\">PyQt - BrushStyle Constants</a></li>\\r\\n<li><a href=\"/pyqt/pyqt_qclipboard.htm\">PyQt - QClipboard</a></li>\\r\\n<li><a href=\"/pyqt/pyqt_qpixmap_class.htm\">PyQt - QPixmap Class</a></li>\\r\\n</ul>\\r\\n<ul class=\"toc chapters\" >\\r\\n<li class=\"heading\">PyQt Useful Resources</li>\\r\\n<li><a href=\"/pyqt/pyqt_quick_guide.htm\">PyQt - Quick Guide</a></li>\\r\\n<li><a href=\"/pyqt/pyqt_useful_resources.htm\">PyQt - Useful Resources</a></li>\\r\\n<li><a href=\"/pyqt/pyqt_discussion.htm\">PyQt - Discussion</a></li>\\r\\n</ul>\\r\\n<ul class=\"toc reading\">\\n<li class=\"sreading\">Selected Reading</li>\\n<li><a target=\"_top\" href=\"/upsc_ias_exams.htm\">UPSC IAS Exams Notes</a></li>\\n<li><a target=\"_top\" href=\"/developers_best_practices/index.htm\">Developer\\'s Best Practices</a></li>\\n<li><a target=\"_top\" href=\"/questions_and_answers.htm\">Questions and Answers</a></li>\\n<li><a target=\"_top\" href=\"/effective_resume_writing.htm\">Effective Resume Writing</a></li>\\n<li><a target=\"_top\" href=\"/hr_interview_questions/index.htm\">HR Interview Questions</a></li>\\n<li><a target=\"_top\" href=\"/computer_glossary.htm\">Computer Glossary</a></li>\\n<li><a target=\"_top\" href=\"/computer_whoiswho.htm\">Who is Who</a></li>\\n</ul>\\n<div id=\"stickyparent\">\\n<div style=\"height:250px;width:300px;\" id=\"sticky-ad\">\\n<div id=\"430c9911-782f-495d-88f9-69f58ca8c9a4\" class=\"_ap_apex_ad\" >\\n<script>\\nvar adpushup = adpushup || {};\\nadpushup.que = adpushup.que || [];\\nadpushup.que.push(function() {\\nadpushup.triggerAd(\"430c9911-782f-495d-88f9-69f58ca8c9a4\");\\n});\\n</script>\\n</div>\\n</div>\\n</div>\\n</div>\\r\\n<!-- Tutorial ToC Ends Here -->\\r\\n<!-- Tutorial Content Starts Here -->\\r\\n<div class=\"mui-col-md-6 tutorial-content\">\\r\\n<h1>PyQt - Introduction</h1>\\n<hr/>\\n<div id=\"google-top-ads\">\\n<div class=\"top-ad-heading\">Advertisements</div>\\n<div style=\"text-align:center\" class=\"google-top-ads\">\\n<div id=\"adp_top_ads\" style=\"text-align:center!important;min-height:90px!important\"></div>\\n<script>\\n     var adPos = document.getElementById(\\'adp_top_ads\\');\\n     var ad_id_720 = \"8014640d-fd34-4b2e-9b1b-cc67234a2325\";\\n     var ad_id_650 = \"2d1bb2c4-eb72-471d-9c80-1bf5514728c1\";\\n     var ad_id_300 = \"df94a1a9-ae2f-432d-9a92-d93823ff4503\";\\n     var width = window.innerWidth;\\n     var ad_id = ad_id_720;\\n     if( width <= 768 ){\\n        ad_id =  ad_id_300;\\n     }else if( width <= 1435 ){\\n        ad_id =  ad_id_650;\\n     }\\n     adPos.innerHTML = \\'<div id=\"\\' + ad_id + \\'\" class=\"_ap_apex_ad\"></div>\\';\\n     var adpushup = adpushup || {};\\n     adpushup.que = adpushup.que || [];\\n     adpushup.que.push(function() {\\n     adpushup.triggerAd(ad_id);\\n     });\\n</script>\\n</div>\\n</div>\\n<br>\\n<div class=\"mui-container-fluid button-borders\">\\n<div class=\"pre-btn\">\\n<a href=\"/pyqt/index.htm\"><i class=\"fal fa-chevron-circle-left\"></i> Previous Page</a>\\n</div>\\n<div class=\"nxt-btn\">\\n<a href=\"/pyqt/pyqt_hello_world.htm\">Next Page <i class=\"fal fa-chevron-circle-right\"></i>&nbsp;</a>\\n</div>\\n</div>\\n<div class=\"clearer\"></div>\\n<p>PyQt is a GUI widgets toolkit. It is a Python interface for <b>Qt</b>, one of the most powerful, and popular cross-platform GUI library. PyQt was developed by RiverBank Computing Ltd. The latest version of PyQt can be downloaded from its official website &minus; <a target=\"_blank\" rel=\"nofollow\" href=\"https://riverbankcomputing.com/software/pyqt/download\">riverbankcomputing.com</a></p>\\n<p>PyQt API is a set of modules containing a large number of classes and functions. While <b>QtCore</b> module contains non-GUI functionality for working with file and directory etc., <b>QtGui</b> module contains all the graphical controls. In addition, there are modules for working with XML <b>(QtXml)</b>, SVG <b>(QtSvg)</b>, and SQL <b>(QtSql)</b>, etc.</p>\\n<h2>Supporting Environments</h2>\\n<p>PyQt is compatible with all the popular operating systems including Windows, Linux, and Mac OS. It is dual licensed, available under GPL as well as commercial license.</p>\\n<h3>Windows</h3>\\n<p>You can download and install an appropriate installer from the above download link corresponding to Python version (2.7 or 3.4) and hardware architecture (32 bit or 64 bit). Note that there are two versions of PyQt that are available namely, <b>PyQt 4.8</b> and <b>PyQt 5.5</b>.</p>\\n<p>While PyQt4 is available for Python 2 as well as Python 3, PyQt5 can be used along with Python 3.* only.</p>\\n<p style=\"text-align:center\"><b>PyQt4 Windows Binaries</b></p>\\n<table class=\"table table-bordered\">\\n<tr>\\n<td>PyQt4-4.11.4-gpl-Py3.4-Qt4.8.7-x64.exe</td>\\n<td>Windows 64 bit installer</td>\\n</tr>\\n<tr>\\n<td>PyQt4-4.11.4-gpl-Py3.4-Qt4.8.7-x32.exe</td>\\n<td>Windows 32 bit installer</td>\\n</tr>\\n<tr>\\n<td>PyQt4-4.11.4-gpl-Py3.4-Qt5.5.0-x64.exe</td>\\n<td>Windows 64 bit installer</td>\\n</tr>\\n<tr>\\n<td>PyQt4-4.11.4-gpl-Py3.4-Qt5.5.0-x32.exe</td>\\n<td>Windows 32 bit installer</td>\\n</tr>\\n<tr>\\n<td>PyQt4-4.11.4-gpl-Py2.7-Qt4.8.7-x64.exe</td>\\n<td>Windows 64 bit installer</td>\\n</tr>\\n<tr>\\n<td>PyQt4-4.11.4-gpl-Py2.7-Qt4.8.7-x32.exe</td>\\n<td>Windows 32 bit installer</td>\\n</tr>\\n</table>\\n<p style=\"text-align:center\"><b>PyQt5 Windows Binaries</b></p>\\n<table class=\"table table-bordered\">\\n<tr>\\n<td>PyQt5-5.5-gpl-Py3.4-Qt5.5.0-x64.exe</td>\\n<td>Windows 64 bit installer</td>\\n</tr>\\n<tr>\\n<td>PyQt5-5.5-gpl-Py3.4-Qt5.5.0-x32.exe</td>\\n<td>Windows 32 bit installer</td>\\n</tr>\\n</table>\\n<h3>Linux</h3>\\n<p>For Ubuntu or any other debian Linux distribution, use the following command to install PyQt &minus;</p>\\n<pre class=\"result notranslate\">\\nsudo apt-get install python-qt4\\n<b>or </b>\\nsudo apt-get install pyqt5-dev-tools\\n</pre>\\n<p>You can also build from the source code available on the ‘download’ page.</p>\\n<table class=\"table table-bordered\">\\n<tr>\\n<td>PyQt-x11-gpl-4.11.4.tar.gz</td>\\n<td>Linux, UNIX source for PyQt4</td>\\n</tr>\\n<tr>\\n<td>PyQt-gpl-5.5.tar.gz</td>\\n<td>Linux, UNIX, MacOS/X source for PyQt5</td>\\n</tr>\\n</table>\\n<h3>Mac OS</h3>\\n<p>PyQtX project (<!--<a target=\"_blank\" rel=\"nofollow\" href=\"http://sourceforge.net/projects/pyqtx/\">--><b>http://sourceforge.net/projects/pyqtx/</b><!--</a>-->) hosts binaries of PyQt for Mac. Use Homebrew installer as per the following command &minus;</p>\\n<pre class=\"result notranslate\">\\nbrew install pyqt\\n</pre>\\n<div id=\"load\">\\r\\n\\t<div class=\"mui-col-md-12 mui-col-sm-12 np\">\\r\\n\\t\\t<div class=\"row uk-min-height\" id=\"ebooks_grid\">\\r\\n\\t\\t\\t\\r\\n\\r\\n\\t\\t\\t<div class=\"clear\"></div>\\r\\n\\t\\t\\t\\r\\n\\t\\t</div>\\r\\n\\t\\t<div class=\"clear\"></div>\\r\\n\\t</div>\\r\\n</div>\\r\\n<div class=\"clear\"></div>\\r\\n<div class=\"mui-container-fluid button-borders show\" id=\"bottom_navigation\">\\r\\n<div class=\"pre-btn\">\\r\\n<a href=\"/pyqt/index.htm\"><i class=\"fal fa-chevron-circle-left\"></i> Previous Page</a>\\r\\n<a class=\"hide-on-mobile\" href=\"javascript:printPage();\"><i class=\"fa fa-print\"></i> Print Page</a>\\r\\n</div>\\r\\n<div class=\"nxt-btn\">\\r\\n<a href=\"/pyqt/pyqt_hello_world.htm\">Next Page <i class=\"fal fa-chevron-circle-right\"></i>&nbsp;</a>\\r\\n</div>\\r\\n</div>\\r\\n<div class=\"space-bottom\" style=\"margin-bottom:20px;\"></div>\\n<div class=\"google-bottom-ads\" id=\"google-bottom-ads\">\\n<div>Advertisements</div>\\n<div>\\n<div id=\"adp_bottom_ads\"></div>\\n<script>\\nvar adPos = document.getElementById(\\'adp_bottom_ads\\');\\nvar mobile_ad_id = \"a8a632a6-046e-4f5c-b25f-8bc82ac89fb2\";\\nvar desktop_ad_id = \"e7ddd6f7-1ab0-494a-bade-887daa4373a0\";\\ndesktop_ad_id = \"4951d1d6-24d4-4a31-afb7-2c22c489eae1\";\\nvar adpushup = adpushup || {};\\nadpushup.que = adpushup.que || [];\\nadpushup.que.push(function() {\\nvar ad_id = window.innerWidth <= 768 ? mobile_ad_id : desktop_ad_id;\\nadPos.innerHTML = \\'<div id=\"\\' + ad_id + \\'\" class=\"_ap_apex_ad\"></div>\\';\\nadpushup.triggerAd(ad_id);\\n});\\n</script>\\n</div>\\n<div class=\"space-bottom\"></div>\\n</div>\\n</div>\\n<!-- Tutorial Content Ends Here -->\\n<!-- Right Column Starts Here -->\\n<div class=\"mui-col-md-2 google-right-ads\" id=\"chapter-menu\" style=\"display: none;\">\\n<!--\\n<input type=\"hidden\" id=\"vu\" name=\"vu\" value=\"\"/>\\n-->\\n<div class=\"space-top\"></div>\\n<div class=\"mui-panel\">\\n<ul class=\"paid-menu\" id=\"div-right-menu\">\\n<li><a class=\"hide-on-mobile\" href=\"javascript:printPage();\" title=\"Print this page\"><i class=\"fa fa-print\"></i> Print</a></li>\\n<li><a href=\"javascript:void(0)\" class=\"add_notes\" title=\"Add Custom Notes\" onclick=\"add_notes();\"><i class=\"fa fa-edit\"></i>&nbsp;Add Notes</a></li>\\n<li><a href=\"javascript:void(0)\" class=\"clsPage text-bookmark\" id=\"text-bookmark\" title=\"Add Bookmark\" onclick=\"text_bookmark()\"><i class=\"fal fa-bookmark\"></i>&nbsp;Bookmark this page </a></li>\\n<li><a href=\"javascript:void(0);\" id=\"report_error_popup\" onclick=\"report_error_popup();\" title=\"Report Error\"><i class=\"fal fa-bell\"></i>&nbsp;Report Error</a></li>\\n<li><a href=\"javascript:void(0);\" id=\"suggestion_popup\" title=\"Give Suggestions\" onclick=\"suggestion_popup();\"><i class=\"fal fa-badge-check\"></i>&nbsp;Suggestions</a></li>\\n</ul>\\n<br>\\n<div class=\"error_msg display_msg\" style=\"color:red;text-align:left;\" ></div>\\n<div class=\"success_msg display_msg\" style=\"color:green;text-align:left;\" ></div>\\n<div class=\"profile-my-notes\" id=\"text_notes_div\" style=\"display:none;\">\\n<textarea rows=\"10\" class=\"text_notes\" id=\"text_notes\" name=\"text_notes\" placeholder=\"Enter your custom notes...\"></textarea>\\n<br>\\n<a href=\"javascript:void(0);\" id=\"submit_text_notes\" class=\"butn-save\" onclick=\"submit_text_notes();\"> Save</a>\\n<a href=\"javascript:void(0);\" class=\"pop-no butn-cancel\" onclick=\"notesClose();\"> Close</a>\\n<p class=\"notes_msg\"  ></p>\\n</div>\\n<div class=\"bottom-menu\">\\n<div class=\"tp-btn\" style=\"width: auto;\"><i class=\"fal fa-box-up\"></i> <a href=\"https://www.tutorialspoint.com/market/student/dashboard.jsp\">Dashboard</a></div>\\n<div class=\"tp-btn\" style=\"width: auto;\" id=\"btnLogout\"><i class=\"fal fa-sign-out-alt\"></i><a href=\"javascript:void(0)\">Logout</a></div>\\n</div>\\n</div>\\n</div>\\n<div class=\"mui-col-md-2 google-right-ads\" id=\"google-right-ads\">\\n<div class=\"space-top\"></div>\\n<div class=\"google-right-ad\" style=\"margin: 0px auto !important;margin-top:5px;min-height:250px!important\">\\n<div id=\"f0f6cff6-393d-4170-b63a-d9ff06ca9f25\" class=\"_ap_apex_ad\">\\n<script>\\nif( window.innerWidth > 768 ){\\n   var adpushup = adpushup || {};\\n   adpushup.que = adpushup.que || [];\\n   adpushup.que.push(function() {\\n   adpushup.triggerAd(\"f0f6cff6-393d-4170-b63a-d9ff06ca9f25\");\\n   });\\n}\\n</script>\\n</div>\\n</div>\\n<div class=\"google-right-ad\" style=\"margin-top:16px;min-height:250px!important\">\\n<div id=\"5c0affd5-724a-475c-bfcd-cecbc7660c36\" class=\"_ap_apex_ad\">\\n<script>\\nif( window.innerWidth > 768 ){\\n   var adpushup = adpushup || {};\\n   adpushup.que = adpushup.que || [];\\n   adpushup.que.push(function() {\\n   adpushup.triggerAd(\"5c0affd5-724a-475c-bfcd-cecbc7660c36\");\\n   });\\n}\\n</script>\\n</div>\\n</div>\\n<div class=\"google-right-ad\" style=\"margin-top:16px;margin-bottom:15px;min-height:600px!important\">\\n<div id=\"8f8814c2-d64c-4d26-9cb9-543653c0b48f\" class=\"_ap_apex_ad\">\\n<script>\\nif( window.innerWidth > 768 ){\\n   var adpushup = adpushup || {};\\n   adpushup.que = adpushup.que || [];\\n   adpushup.que.push(function() {\\n   adpushup.triggerAd(\"8f8814c2-d64c-4d26-9cb9-543653c0b48f\");\\n   });\\n}\\n</script>\\n</div>\\n</div>\\n<div class=\"space-bottom\" style=\"margin-bottom:15px;\"></div>\\n</div>\\n<!-- Right Column Ends Here -->\\n</div>\\n</div>\\n<div class=\"clear\"></div>\\n<footer id=\"footer\">\\n<div class=\"mui--text-center\">\\n<div class=\"mui--text-caption mui--text-light\">\\n<a href=\"/index.htm\" class=\"logo\"><img class=\"img-responsive\" src=\"/images/logo-black.png\" alt=\"Tutorials Point\" title=\"Tutorials Point\"></a>\\n</div>\\n<ul class=\"mui-list--inline mui--text-body2 mui--text-light\">\\n<li><a href=\"/about/index.htm\"><i class=\"fal fa-globe\"></i> About us</a></li>\\n<li><a href=\"/about/return_refund_policy.htm\"> <i class=\"fal fa-asterisk\"></i> Refund Policy</a></li>\\n<li><a href=\"/about/about_terms_of_use.htm\"><i class=\"fal fa-asterisk\"></i> Terms of use</a></li>\\n<li><a href=\"/about/about_privacy.htm\"> <i class=\"fal fa-shield-check\"></i> Privacy Policy</a></li>\\n<li><a href=\"/about/faq.htm\"><i class=\"fal fa-question-circle\"></i> FAQ\\'s</a></li>\\n<li><a href=\"/about/contact_us.htm\"><i class=\"fal fa-map-marker-alt\"></i> Contact</a></li>\\n</ul>\\n<div class=\"mui--text-caption mui--text-light bottom-copyright-text\">&copy; Copyright 2021. All Rights Reserved.</div>\\n</div>\\n<div id=\"privacy-banner\">\\n  <div>\\n    <p>\\n      We make use of cookies to improve our user experience. By using this website, you agree with our Cookies Policy.\\n      <a id=\"banner-accept\" href=\"javascript:void(0)\">Agree</a>\\n      <a id=\"banner-learn\" href=\"/about/about_cookies.htm\" target=\"_blank\">Learn more</a>\\n    </p>\\n  </div>\\n</div>\\n<script async src=\"https://www.googletagmanager.com/gtag/js?id=UA-232293-6\"></script>\\n<script>\\nwindow.dataLayer = window.dataLayer || [];\\nfunction gtag(){dataLayer.push(arguments);}\\ngtag(\\'js\\', new Date());\\ngtag(\\'config\\', \\'UA-232293-6\\');\\n</script>\\n<script src=\"https://www.tutorialspoint.com/themes/js/text_menu.js\"></script>\\n<script>\\n$(document).ready(function (){\\n    var cval = readCookie(\\'subscription_purchased\\');\\n    if(cval == \\'1\\'){\\n          // logged in and purchased subscription.\\n          $(\\'#google-right-ads\\').remove();\\n          $(\\'#adp1\\').remove();\\n          $(\\'#adp2\\').remove();\\n          $(\\'#stickyparent\\').remove();\\n          $(\\'#google-top-ads\\').remove();\\n          $(\\'#adp_top_ads\\').remove();\\n          $(\\'#google-bottom-ads\\').remove();\\n          $(\\'.tutorial-content hr\\').remove();\\n          $(\\'.login\\').remove();\\n          $(\\'#chapter-menu\\').show();\\n          $(\\'.content h1\\').css(\"border-bottom\", \"none\");\\n          $(\\'.google-right-ads\\').css(\"padding-right\", \"0px\");\\n          $(\\'.tutorial-content\\').css(\"border-radius\", \"10px\");\\n          $(\\'#chapter-menu .mui-panel\\').css(\"border-radius\", \"10px\");\\n     }\\n     $(document).on(\"click\", \"#btnLogout\", function(){\\n       $.ajax({\\n           type: \\'GET\\',\\n           dataType: \\'JSON\\',\\n           cache: false,\\n           url: \"https://www.tutorialspoint.com/market/logout.jsp\",\\n           complete: function (xhr, statusText) {\\n               if(xhr.status == 200) {\\n                   window.location.href = \\'https://www.tutorialspoint.com/index.htm\\'\\n               } else {\\n                   console.log(\"something went wrong\");\\n               }\\n           }\\n       });\\n    });\\n});\\n</script>\\n</footer>\\n</body>\\n</html>\\n'"
      ]
     },
     "execution_count": 37,
     "metadata": {},
     "output_type": "execute_result"
    }
   ],
   "source": [
    "page.text  #print the text of directory"
   ]
  },
  {
   "cell_type": "code",
   "execution_count": 6,
   "metadata": {},
   "outputs": [
    {
     "name": "stdout",
     "output_type": "stream",
     "text": [
      "0.5915914808803402\n"
     ]
    }
   ],
   "source": [
    "import random,math   \n",
    "# for i in range (5):\n",
    "print(random.random()) #Any random value between 0 & 1"
   ]
  },
  {
   "cell_type": "code",
   "execution_count": 14,
   "metadata": {},
   "outputs": [
    {
     "data": {
      "text/plain": [
       "23"
      ]
     },
     "execution_count": 14,
     "metadata": {},
     "output_type": "execute_result"
    }
   ],
   "source": [
    "random.randint(1,90) "
   ]
  },
  {
   "cell_type": "code",
   "execution_count": 17,
   "metadata": {},
   "outputs": [
    {
     "name": "stdout",
     "output_type": "stream",
     "text": [
      "26\n"
     ]
    }
   ],
   "source": [
    "\n",
    "#for i in range (5):\n",
    "print(random.randint(1,60)) #Any random value between 0 & 1"
   ]
  },
  {
   "cell_type": "code",
   "execution_count": 20,
   "metadata": {},
   "outputs": [
    {
     "name": "stdout",
     "output_type": "stream",
     "text": [
      "4\n"
     ]
    }
   ],
   "source": [
    "x=['1',\"2\",\"3\",\"4\",'4','5',\"7\"]\n",
    "a=random.choice(x)\n",
    "print(a)"
   ]
  },
  {
   "cell_type": "code",
   "execution_count": 21,
   "metadata": {},
   "outputs": [
    {
     "name": "stdout",
     "output_type": "stream",
     "text": [
      "['4', '2', '2', '1']\n"
     ]
    }
   ],
   "source": [
    "z=random.choices(x,k=4) \n",
    "print(z)"
   ]
  },
  {
   "cell_type": "code",
   "execution_count": 47,
   "metadata": {},
   "outputs": [
    {
     "name": "stdout",
     "output_type": "stream",
     "text": [
      "6\n",
      "You win\n"
     ]
    }
   ],
   "source": [
    "#Write a program to display a random number between 1-6,if value is 6,display \"yow win\"\n",
    "c=random.randint(1,6) \n",
    "print(c)\n",
    "if c== 6:\n",
    "  print(\"You win\")\n",
    "else:\n",
    "    print(\"Try Again\")"
   ]
  },
  {
   "cell_type": "code",
   "execution_count": 50,
   "metadata": {},
   "outputs": [
    {
     "ename": "SyntaxError",
     "evalue": "invalid syntax (953408113.py, line 1)",
     "output_type": "error",
     "traceback": [
      "\u001b[1;36m  Input \u001b[1;32mIn [50]\u001b[1;36m\u001b[0m\n\u001b[1;33m    if 6 = random.randint(1,6):\u001b[0m\n\u001b[1;37m         ^\u001b[0m\n\u001b[1;31mSyntaxError\u001b[0m\u001b[1;31m:\u001b[0m invalid syntax\n"
     ]
    }
   ],
   "source": [
    "if 6 = random.randint(1,6):\n",
    " print(\"you Win\")"
   ]
  },
  {
   "cell_type": "code",
   "execution_count": 60,
   "metadata": {},
   "outputs": [
    {
     "data": {
      "text/plain": [
       "0.5253219888177297"
      ]
     },
     "execution_count": 60,
     "metadata": {},
     "output_type": "execute_result"
    }
   ],
   "source": [
    "math.cos(45) # In radion "
   ]
  },
  {
   "cell_type": "code",
   "execution_count": 52,
   "metadata": {},
   "outputs": [
    {
     "data": {
      "text/plain": [
       "16.0"
      ]
     },
     "execution_count": 52,
     "metadata": {},
     "output_type": "execute_result"
    }
   ],
   "source": [
    "math.sqrt(256)"
   ]
  },
  {
   "cell_type": "code",
   "execution_count": 57,
   "metadata": {},
   "outputs": [
    {
     "data": {
      "text/plain": [
       "720"
      ]
     },
     "execution_count": 57,
     "metadata": {},
     "output_type": "execute_result"
    }
   ],
   "source": [
    "math.factorial(6)"
   ]
  },
  {
   "cell_type": "code",
   "execution_count": 54,
   "metadata": {},
   "outputs": [
    {
     "data": {
      "text/plain": [
       "5.0"
      ]
     },
     "execution_count": 54,
     "metadata": {},
     "output_type": "execute_result"
    }
   ],
   "source": [
    "math.hypot(3,4)"
   ]
  },
  {
   "cell_type": "markdown",
   "metadata": {},
   "source": [
    "### To install a library\n",
    "`\n",
    "pip install <library>\n",
    "`\n",
    "\n",
    "`pip install pillow`"
   ]
  },
  {
   "cell_type": "code",
   "execution_count": 62,
   "metadata": {},
   "outputs": [
    {
     "ename": "ModuleNotFoundError",
     "evalue": "No module named 'PIL'",
     "output_type": "error",
     "traceback": [
      "\u001b[1;31m---------------------------------------------------------------------------\u001b[0m",
      "\u001b[1;31mModuleNotFoundError\u001b[0m                       Traceback (most recent call last)",
      "\u001b[1;32md:\\Python\\pre_defined_functions.ipynb Cell 26'\u001b[0m in \u001b[0;36m<module>\u001b[1;34m\u001b[0m\n\u001b[1;32m----> <a href='vscode-notebook-cell:/d%3A/Python/pre_defined_functions.ipynb#ch0000026?line=0'>1</a>\u001b[0m \u001b[39mfrom\u001b[39;00m \u001b[39mPIL\u001b[39;00m \u001b[39mimport\u001b[39;00m Image\n",
      "\u001b[1;31mModuleNotFoundError\u001b[0m: No module named 'PIL'"
     ]
    }
   ],
   "source": [
    "from PIL import Image"
   ]
  },
  {
   "cell_type": "code",
   "execution_count": 68,
   "metadata": {},
   "outputs": [
    {
     "ename": "NameError",
     "evalue": "name 'pictures' is not defined",
     "output_type": "error",
     "traceback": [
      "\u001b[1;31m---------------------------------------------------------------------------\u001b[0m",
      "\u001b[1;31mNameError\u001b[0m                                 Traceback (most recent call last)",
      "\u001b[1;32md:\\Python\\pre_defined_functions.ipynb Cell 27'\u001b[0m in \u001b[0;36m<module>\u001b[1;34m\u001b[0m\n\u001b[0;32m      <a href='vscode-notebook-cell:/d%3A/Python/pre_defined_functions.ipynb#ch0000027?line=0'>1</a>\u001b[0m picture\u001b[39m=\u001b[39m()\n\u001b[1;32m----> <a href='vscode-notebook-cell:/d%3A/Python/pre_defined_functions.ipynb#ch0000027?line=1'>2</a>\u001b[0m a\u001b[39m=\u001b[39mpictures\u001b[39m.\u001b[39mopen(\u001b[39m\"\u001b[39m\u001b[39mC:\u001b[39m\u001b[39m\\\\\u001b[39;00m\u001b[39mUsers\u001b[39m\u001b[39m\\\\\u001b[39;00m\u001b[39mUjjwal\u001b[39m\u001b[39m\\\\\u001b[39;00m\u001b[39mOneDrive\u001b[39m\u001b[39m\\\\\u001b[39;00m\u001b[39mPictures\u001b[39m\u001b[39m\\\\\u001b[39;00m\u001b[39mScreenshots.jpg\u001b[39m\u001b[39m\"\u001b[39m)\u001b[39m.\u001b[39mresize(\u001b[39m256\u001b[39m,\u001b[39m256\u001b[39m)\n\u001b[0;32m      <a href='vscode-notebook-cell:/d%3A/Python/pre_defined_functions.ipynb#ch0000027?line=2'>3</a>\u001b[0m \u001b[39m#a.rotate(90)\u001b[39;00m\n\u001b[0;32m      <a href='vscode-notebook-cell:/d%3A/Python/pre_defined_functions.ipynb#ch0000027?line=3'>4</a>\u001b[0m a\n",
      "\u001b[1;31mNameError\u001b[0m: name 'pictures' is not defined"
     ]
    }
   ],
   "source": [
    "\n",
    "a=pictures.open(\"C:\\\\Users\\\\Ujjwal\\\\OneDrive\\\\Pictures\\\\Screenshots.jpg\").resize(256,256)\n",
    "#a.rotate(90)\n",
    "a"
   ]
  },
  {
   "cell_type": "code",
   "execution_count": null,
   "metadata": {},
   "outputs": [],
   "source": [
    "print()"
   ]
  }
 ],
 "metadata": {
  "interpreter": {
   "hash": "8eedd8bba5cf8af416d277e5b6acb73c17c7e7766b082e155fe64db127c7a7bb"
  },
  "kernelspec": {
   "display_name": "Python 3.9.5 ('base')",
   "language": "python",
   "name": "python3"
  },
  "language_info": {
   "codemirror_mode": {
    "name": "ipython",
    "version": 3
   },
   "file_extension": ".py",
   "mimetype": "text/x-python",
   "name": "python",
   "nbconvert_exporter": "python",
   "pygments_lexer": "ipython3",
   "version": "3.9.5"
  },
  "orig_nbformat": 4
 },
 "nbformat": 4,
 "nbformat_minor": 2
}
