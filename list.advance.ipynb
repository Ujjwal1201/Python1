{
 "cells": [
  {
   "cell_type": "markdown",
   "metadata": {},
   "source": [
    "- Comprehension\n",
    "- Lambda,map & filter"
   ]
  },
  {
   "cell_type": "markdown",
   "metadata": {},
   "source": [
    "If u r doing a program where u nedd to get a list(sequence) of data from an **existing data** by performing **some operation** on existing data then u can use the **concept of comprehension or map/filter** to make ur code smaller and faster"
   ]
  },
  {
   "cell_type": "code",
   "execution_count": 8,
   "metadata": {},
   "outputs": [
    {
     "name": "stdout",
     "output_type": "stream",
     "text": [
      "[6, 7, 8, 9, 10, 11, 12]\n"
     ]
    }
   ],
   "source": [
    "x=[1,2,3,4,5,6,7]\n",
    "x1=[] #Empty list\n",
    "for i in x:\n",
    "    s=i+5\n",
    "    x1.append(s)\n",
    "print(x1)"
   ]
  },
  {
   "cell_type": "markdown",
   "metadata": {},
   "source": [
    "# Comprehension syntax\n",
    "- Simple\n",
    "  ```\n",
    "  newlist=[operation loop]\n",
    "  ```\n",
    "- Condition based \n",
    "  ```\n",
    "  newlist=[Operation loop condition]\n",
    "  ```\n"
   ]
  },
  {
   "cell_type": "code",
   "execution_count": 9,
   "metadata": {},
   "outputs": [
    {
     "name": "stdout",
     "output_type": "stream",
     "text": [
      "[6, 7, 8, 9, 10, 11, 12]\n"
     ]
    }
   ],
   "source": [
    "x1=[i+5 for i in x]\n",
    "print(x1)"
   ]
  },
  {
   "cell_type": "code",
   "execution_count": 10,
   "metadata": {},
   "outputs": [
    {
     "name": "stdout",
     "output_type": "stream",
     "text": [
      "[1, 4, 9, 16, 25, 36, 49]\n"
     ]
    }
   ],
   "source": [
    "a=[i**2 for i in x]\n",
    "print(a)"
   ]
  },
  {
   "cell_type": "code",
   "execution_count": 25,
   "metadata": {},
   "outputs": [
    {
     "name": "stdout",
     "output_type": "stream",
     "text": [
      "[4, 16, 36, 64, 100]\n"
     ]
    }
   ],
   "source": [
    "#Normal version\n",
    "x=[1,2,3,4,5,6,7,8,9,10]\n",
    "x2=[]\n",
    "for i in x:\n",
    "  if i % 2 ==0:\n",
    "    x2.append(i**2)\n",
    "print(x2)"
   ]
  },
  {
   "cell_type": "code",
   "execution_count": 24,
   "metadata": {},
   "outputs": [
    {
     "name": "stdout",
     "output_type": "stream",
     "text": [
      "[8, 64, 216, 512, 1000]\n"
     ]
    }
   ],
   "source": [
    "#Pythonic version\n",
    "cube=[i**3 for i in x if i%2==0]\n",
    "print(cube)"
   ]
  },
  {
   "cell_type": "code",
   "execution_count": 27,
   "metadata": {},
   "outputs": [
    {
     "name": "stdout",
     "output_type": "stream",
     "text": [
      "[-9, -7, -5, -3, -1]\n"
     ]
    }
   ],
   "source": [
    "#Normal version\n",
    "x=[1,2,3,4,5,6,7,8,9,10]\n",
    "x2=[]\n",
    "for i in x:\n",
    "  if i % 2 !=0:\n",
    "    x2.append(i-10)\n",
    "print(x2)"
   ]
  },
  {
   "cell_type": "code",
   "execution_count": 31,
   "metadata": {},
   "outputs": [
    {
     "name": "stdout",
     "output_type": "stream",
     "text": [
      "[-9, -7, -5, -3, -1]\n"
     ]
    }
   ],
   "source": [
    "#Pythonic version\n",
    "subs=[i-10 for i in x if i%2!=0]\n",
    "print(subs)"
   ]
  },
  {
   "cell_type": "code",
   "execution_count": 7,
   "metadata": {},
   "outputs": [
    {
     "name": "stdout",
     "output_type": "stream",
     "text": [
      "['Khali', 'Reigns', 'Undertaker']\n"
     ]
    }
   ],
   "source": [
    "names=[\"The Great Khali\",\"Roman Reigns\",\"The Undertaker\"]\n",
    "sn=[n.split()[-1] for n in names]\n",
    "print(sn)"
   ]
  },
  {
   "cell_type": "markdown",
   "metadata": {},
   "source": [
    "### TASK\n",
    "- Write a comprehension program that will return all the employees with **a** in their names from existing list of 25 employees"
   ]
  },
  {
   "cell_type": "code",
   "execution_count": 19,
   "metadata": {},
   "outputs": [
    {
     "name": "stdout",
     "output_type": "stream",
     "text": [
      "['hejfhejuhf', 'adasd', 'sdedsf', 'adsfse', 'adaefre', 'dgdrgr', 'fdgftyrt', 'fgrdetgre', 'fdvgfdr', 'gregvfdgv', 'rgsadasfa', 'adafsd', 'afsgd', 'afsdgs', 'asfsgs', 'afsdgdf', '', 'fsda', '', 'dfgr', 'fsdfsef', 'a', 'fdsegsrs', '', 'afsf']\n"
     ]
    }
   ],
   "source": [
    "emp=[]\n",
    "for n in range(25):\n",
    "    name=input(\"enter names\")\n",
    "    emp.append(name)\n",
    "print(emp)"
   ]
  },
  {
   "cell_type": "code",
   "execution_count": 20,
   "metadata": {},
   "outputs": [
    {
     "name": "stdout",
     "output_type": "stream",
     "text": [
      "['adasd', 'adsfse', 'adaefre', 'rgsadasfa', 'adafsd', 'afsgd', 'afsdgs', 'asfsgs', 'afsdgdf', 'fsda', 'a', 'afsf']\n"
     ]
    }
   ],
   "source": [
    "s=[]\n",
    "for i in emp:\n",
    "    if \"a\" in i:\n",
    "        s.append(i)\n",
    "print(s)"
   ]
  },
  {
   "cell_type": "code",
   "execution_count": 21,
   "metadata": {},
   "outputs": [
    {
     "name": "stdout",
     "output_type": "stream",
     "text": [
      "adasd\n",
      "adsfse\n",
      "adaefre\n",
      "rgsadasfa\n",
      "adafsd\n",
      "afsgd\n",
      "afsdgs\n",
      "asfsgs\n",
      "afsdgdf\n",
      "fsda\n",
      "a\n",
      "afsf\n"
     ]
    }
   ],
   "source": [
    "w=[print(i) for i in emp if \"a\" in i]\n"
   ]
  },
  {
   "cell_type": "code",
   "execution_count": null,
   "metadata": {},
   "outputs": [],
   "source": []
  }
 ],
 "metadata": {
  "interpreter": {
   "hash": "8eedd8bba5cf8af416d277e5b6acb73c17c7e7766b082e155fe64db127c7a7bb"
  },
  "kernelspec": {
   "display_name": "Python 3.9.5 ('base')",
   "language": "python",
   "name": "python3"
  },
  "language_info": {
   "codemirror_mode": {
    "name": "ipython",
    "version": 3
   },
   "file_extension": ".py",
   "mimetype": "text/x-python",
   "name": "python",
   "nbconvert_exporter": "python",
   "pygments_lexer": "ipython3",
   "version": "3.9.5"
  },
  "orig_nbformat": 4
 },
 "nbformat": 4,
 "nbformat_minor": 2
}
