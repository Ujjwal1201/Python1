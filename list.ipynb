{
 "cells": [
  {
   "cell_type": "markdown",
   "metadata": {},
   "source": [
    "# List\n",
    "- List is mutable\n",
    "- List is hetrogeneous '(mixed data can be stored)'\n",
    "- List can have duplicate values\n",
    "- List is indexed '(can be sliced)'\n",
    "- List uses square brackets \"[]\" & is separated by commas\n",
    "\n",
    "### What to Learn\n",
    "- Creating a list\n",
    "- Indexing & Slicing\n",
    "- Traversal(looping)\n",
    "- Function(11)\n",
    "- Comprehension\n",
    "- Lambda,map & Filter"
   ]
  },
  {
   "cell_type": "code",
   "execution_count": 31,
   "metadata": {},
   "outputs": [],
   "source": [
    "#list of string\n",
    "names=[\"Antonio\",\"Bassanio\",\"Shylock\",\"Portia\"]\n",
    "#List of numbers\n",
    "factors=[1,2,3,4,5,6]\n",
    "#Mixed data list\n",
    "info=[\"ujjwal\",2,3,\"w\"]\n",
    "#Nested list\n",
    "c2d=[[1,2,3,4],[2,3,4,5,6]]\n",
    "#List from function\n",
    "fact=\"icecube sites in its own blood\"\n",
    "words=fact.split()"
   ]
  },
  {
   "cell_type": "markdown",
   "metadata": {},
   "source": []
  },
  {
   "cell_type": "code",
   "execution_count": 32,
   "metadata": {},
   "outputs": [
    {
     "name": "stdout",
     "output_type": "stream",
     "text": [
      "[1, 1, 1, 1, 1, 1, 1, 1, 1, 1, 1, 1, 1, 1, 1, 1, 1, 1, 1, 1]\n"
     ]
    }
   ],
   "source": [
    "#Quick list hack with same values\n",
    "x=[1]*20\n",
    "print(x)"
   ]
  },
  {
   "cell_type": "code",
   "execution_count": 33,
   "metadata": {},
   "outputs": [
    {
     "name": "stdout",
     "output_type": "stream",
     "text": [
      "[10, 'something', 9]\n"
     ]
    }
   ],
   "source": [
    "#List from existing variable\n",
    "a=10\n",
    "b=\"something\"\n",
    "c=9\n",
    "l=[a,b,c]\n",
    "print(l)\n"
   ]
  },
  {
   "cell_type": "code",
   "execution_count": 34,
   "metadata": {},
   "outputs": [
    {
     "name": "stdout",
     "output_type": "stream",
     "text": [
      "[10, 30]\n"
     ]
    }
   ],
   "source": [
    "value=[]\n",
    "value.append(a)\n",
    "value.append(30)\n",
    "print(value)\n",
    "\n"
   ]
  },
  {
   "cell_type": "code",
   "execution_count": 35,
   "metadata": {},
   "outputs": [
    {
     "name": "stdout",
     "output_type": "stream",
     "text": [
      "[1, 2, 3, 4, 5, 6, 7, 8, 9, 10, 11, 12, 13, 14, 15, 16, 17, 18, 19, 20, 21, 22, 23, 24, 25, 26, 27, 28, 29, 30, 31, 32, 33, 34, 35, 36, 37, 38, 39, 40, 41, 42, 43, 44, 45, 46, 47, 48, 49, 50, 51, 52, 53, 54, 55, 56, 57, 58, 59, 60, 61, 62, 63, 64, 65, 66, 67, 68, 69, 70, 71, 72, 73, 74, 75, 76, 77, 78, 79, 80, 81, 82, 83, 84, 85, 86, 87, 88, 89, 90, 91, 92, 93, 94, 95, 96, 97, 98, 99]\n"
     ]
    }
   ],
   "source": [
    "numbers=[]\n",
    "for i in range(1,100):\n",
    "    numbers.append(i)\n",
    "print(numbers)    "
   ]
  },
  {
   "cell_type": "code",
   "execution_count": 36,
   "metadata": {},
   "outputs": [
    {
     "data": {
      "text/plain": [
       "'d'"
      ]
     },
     "execution_count": 36,
     "metadata": {},
     "output_type": "execute_result"
    }
   ],
   "source": [
    "fact[-1]"
   ]
  },
  {
   "cell_type": "code",
   "execution_count": 37,
   "metadata": {},
   "outputs": [
    {
     "data": {
      "text/plain": [
       "['Apple', 'Banana', 'Cherry', 'Guava']"
      ]
     },
     "execution_count": 37,
     "metadata": {},
     "output_type": "execute_result"
    }
   ],
   "source": [
    "fruit=[]\n",
    "fruit.append(\"Apple\")\n",
    "fruit.append(\"Banana\")\n",
    "fruit.append(\"Cherry\")\n",
    "fruit.append(\"Guava\")\n",
    "fruit\n"
   ]
  },
  {
   "cell_type": "code",
   "execution_count": 38,
   "metadata": {},
   "outputs": [
    {
     "data": {
      "text/plain": [
       "['Apple', 'Banana', 'Cherry', 'fig', 'Guava']"
      ]
     },
     "execution_count": 38,
     "metadata": {},
     "output_type": "execute_result"
    }
   ],
   "source": [
    "fruit.insert(-1,\"fig\")\n",
    "fruit"
   ]
  },
  {
   "cell_type": "code",
   "execution_count": 39,
   "metadata": {},
   "outputs": [
    {
     "data": {
      "text/plain": [
       "['Apple', 'Avocado', 'Banana', 'Cherry', 'fig', 'Guava']"
      ]
     },
     "execution_count": 39,
     "metadata": {},
     "output_type": "execute_result"
    }
   ],
   "source": [
    "fruit.insert(1,\"Avocado\")\n",
    "fruit\n"
   ]
  },
  {
   "cell_type": "code",
   "execution_count": 40,
   "metadata": {},
   "outputs": [
    {
     "data": {
      "text/plain": [
       "['Apple', 'Avocado', 'Banana', 'Cherry', 'fig', 'Guava', 'mango']"
      ]
     },
     "execution_count": 40,
     "metadata": {},
     "output_type": "execute_result"
    }
   ],
   "source": [
    "fruit.insert(10,\"mango\")#TO add at last use any number greater than size of list\n",
    "fruit"
   ]
  },
  {
   "cell_type": "code",
   "execution_count": 41,
   "metadata": {},
   "outputs": [
    {
     "data": {
      "text/plain": [
       "['Almond', 'Casewnut', 'Walnut']"
      ]
     },
     "execution_count": 41,
     "metadata": {},
     "output_type": "execute_result"
    }
   ],
   "source": [
    "dry_fruits=[\"Almond\",\"Casewnut\",\"Walnut\"]\n",
    "dry_fruits"
   ]
  },
  {
   "cell_type": "code",
   "execution_count": 42,
   "metadata": {},
   "outputs": [
    {
     "data": {
      "text/plain": [
       "['Apple',\n",
       " 'Avocado',\n",
       " 'Banana',\n",
       " 'Cherry',\n",
       " 'fig',\n",
       " 'Guava',\n",
       " 'mango',\n",
       " 'Almond',\n",
       " 'Casewnut',\n",
       " 'Walnut']"
      ]
     },
     "execution_count": 42,
     "metadata": {},
     "output_type": "execute_result"
    }
   ],
   "source": [
    "fruit.extend(dry_fruits)#Adding 2 functions\n",
    "fruit\n",
    "\n"
   ]
  },
  {
   "cell_type": "code",
   "execution_count": 43,
   "metadata": {},
   "outputs": [
    {
     "data": {
      "text/plain": [
       "10"
      ]
     },
     "execution_count": 43,
     "metadata": {},
     "output_type": "execute_result"
    }
   ],
   "source": [
    "len(fruit)"
   ]
  },
  {
   "cell_type": "code",
   "execution_count": 44,
   "metadata": {},
   "outputs": [
    {
     "name": "stdout",
     "output_type": "stream",
     "text": [
      "['Apple', 'Avocado', 'Banana', 'Cherry', 'fig', 'Guava', 'Almond', 'Casewnut', 'Walnut']\n"
     ]
    }
   ],
   "source": [
    "if \"mango\" in fruit:\n",
    "    fruit.remove('mango') # Remove with value i.e. mango\n",
    "    print(fruit)\n",
    "else:\n",
    "    print(\"No mango found\")"
   ]
  },
  {
   "cell_type": "code",
   "execution_count": 45,
   "metadata": {},
   "outputs": [
    {
     "name": "stdout",
     "output_type": "stream",
     "text": [
      "NO papaya found\n"
     ]
    }
   ],
   "source": [
    "if \"papaya\" in fruit:\n",
    "    fruit.remove(\"papaya\")\n",
    "    print(fruit)\n",
    "else:\n",
    "    print(\"NO papaya found\")"
   ]
  },
  {
   "cell_type": "code",
   "execution_count": 46,
   "metadata": {},
   "outputs": [
    {
     "data": {
      "text/plain": [
       "[1, 2, 3, [4, 5, 6]]"
      ]
     },
     "execution_count": 46,
     "metadata": {},
     "output_type": "execute_result"
    }
   ],
   "source": [
    "x=[1,2,3,[4,5,6]]\n",
    "x\n"
   ]
  },
  {
   "cell_type": "markdown",
   "metadata": {},
   "source": [
    "# Pop can be used in 2 ways\n",
    "- list.pop()    => remove the last value in list and gives us that value\n",
    "- list.pop(idx) => remove that value from idx if idx is valid and gives the value"
   ]
  },
  {
   "cell_type": "code",
   "execution_count": 47,
   "metadata": {},
   "outputs": [
    {
     "name": "stdout",
     "output_type": "stream",
     "text": [
      "removed_values=> Walnut\n",
      "list=> ['Apple', 'Avocado', 'Banana', 'Cherry', 'fig', 'Guava', 'Almond', 'Casewnut']\n"
     ]
    }
   ],
   "source": [
    "v=fruit.pop()\n",
    "print(\"removed_values=>\",v)\n",
    "print(\"list=>\",fruit)"
   ]
  },
  {
   "cell_type": "code",
   "execution_count": 48,
   "metadata": {},
   "outputs": [
    {
     "name": "stdout",
     "output_type": "stream",
     "text": [
      "removed_values=> Cherry\n",
      "list=> ['Apple', 'Avocado', 'Banana', 'fig', 'Guava', 'Almond', 'Casewnut']\n"
     ]
    }
   ],
   "source": [
    "v=fruit.pop(3)\n",
    "print(\"removed_values=>\",v)\n",
    "print(\"list=>\",fruit)\n"
   ]
  },
  {
   "cell_type": "code",
   "execution_count": 49,
   "metadata": {},
   "outputs": [
    {
     "data": {
      "text/plain": [
       "[]"
      ]
     },
     "execution_count": 49,
     "metadata": {},
     "output_type": "execute_result"
    }
   ],
   "source": [
    "fruit.clear()\n",
    "fruit\n",
    "\n",
    "\n",
    "\n"
   ]
  },
  {
   "cell_type": "code",
   "execution_count": 50,
   "metadata": {},
   "outputs": [
    {
     "ename": "TypeError",
     "evalue": "list.append() takes exactly one argument (2 given)",
     "output_type": "error",
     "traceback": [
      "\u001b[1;31m---------------------------------------------------------------------------\u001b[0m",
      "\u001b[1;31mTypeError\u001b[0m                                 Traceback (most recent call last)",
      "\u001b[1;32md:\\Python\\list.ipynb Cell 23'\u001b[0m in \u001b[0;36m<module>\u001b[1;34m\u001b[0m\n\u001b[1;32m----> <a href='vscode-notebook-cell:/d%3A/Python/list.ipynb#ch0000023?line=0'>1</a>\u001b[0m fruit\u001b[39m.\u001b[39;49mappend(\u001b[39m1\u001b[39;49m,\u001b[39m2\u001b[39;49m)\n",
      "\u001b[1;31mTypeError\u001b[0m: list.append() takes exactly one argument (2 given)"
     ]
    }
   ],
   "source": [
    "fruit.append(1,2) #Two values can't be addes by using append"
   ]
  },
  {
   "cell_type": "code",
   "execution_count": 51,
   "metadata": {},
   "outputs": [],
   "source": [
    "movies= [\n",
    "    'love aajkal',\n",
    "    'eternals',\n",
    "    'venom',\n",
    "    'jungle cruise',\n",
    "    'free guy',\n",
    "    'the mauritanian',\n",
    "    'the black widow',\n",
    "\n",
    "]"
   ]
  },
  {
   "cell_type": "code",
   "execution_count": 52,
   "metadata": {},
   "outputs": [
    {
     "name": "stdout",
     "output_type": "stream",
     "text": [
      "normal\n",
      " ['love aajkal', 'eternals', 'venom', 'jungle cruise', 'free guy', 'the mauritanian', 'the black widow']\n",
      "reverse\n",
      " ['the black widow', 'the mauritanian', 'free guy', 'jungle cruise', 'venom', 'eternals', 'love aajkal']\n"
     ]
    }
   ],
   "source": [
    "print('normal\\n',movies)\n",
    "movies.reverse()\n",
    "print(\"reverse\\n\",movies)"
   ]
  },
  {
   "cell_type": "code",
   "execution_count": 53,
   "metadata": {},
   "outputs": [
    {
     "name": "stdout",
     "output_type": "stream",
     "text": [
      "['eternals', 'free guy', 'jungle cruise', 'love aajkal', 'the black widow', 'the mauritanian', 'venom']\n"
     ]
    }
   ],
   "source": [
    "movies.sort()#Sorting \n",
    "print(movies)"
   ]
  },
  {
   "cell_type": "code",
   "execution_count": 54,
   "metadata": {},
   "outputs": [
    {
     "name": "stdout",
     "output_type": "stream",
     "text": [
      "['venom', 'the mauritanian', 'the black widow', 'love aajkal', 'jungle cruise', 'free guy', 'eternals']\n"
     ]
    }
   ],
   "source": [
    "movies.sort(reverse=True)\n",
    "print(movies)"
   ]
  },
  {
   "cell_type": "code",
   "execution_count": null,
   "metadata": {},
   "outputs": [
    {
     "name": "stdout",
     "output_type": "stream",
     "text": [
      "['venom', 'the mauritaniun', 'the black widow', 'love aajkal', 'jungle cruise', 'free guy', 'eternals']\n"
     ]
    }
   ],
   "source": [
    "dup_mov=movies.copy() #creating a duplicate copy of original list \n",
    "print(dup_mov)"
   ]
  },
  {
   "cell_type": "code",
   "execution_count": 55,
   "metadata": {},
   "outputs": [
    {
     "data": {
      "text/plain": [
       "1"
      ]
     },
     "execution_count": 55,
     "metadata": {},
     "output_type": "execute_result"
    }
   ],
   "source": [
    "movies.index('the mauritanian')"
   ]
  },
  {
   "cell_type": "code",
   "execution_count": 57,
   "metadata": {},
   "outputs": [
    {
     "name": "stdout",
     "output_type": "stream",
     "text": [
      "3\n"
     ]
    }
   ],
   "source": [
    "if \"love aajkal\" in movies:\n",
    "    print (movies.index(\"love aajkal\"))"
   ]
  },
  {
   "cell_type": "code",
   "execution_count": 59,
   "metadata": {},
   "outputs": [],
   "source": [
    "x= [1,2,3,4,2,3,5,7,8,4,4,6,8,9,6,3,4,5,6,7,8,8,6,1,2,3,6,7,3,2.4,4,3,3,5,6,7,8,]\n",
    "\n"
   ]
  },
  {
   "cell_type": "code",
   "execution_count": 61,
   "metadata": {},
   "outputs": [
    {
     "data": {
      "text/plain": [
       "2"
      ]
     },
     "execution_count": 61,
     "metadata": {},
     "output_type": "execute_result"
    }
   ],
   "source": [
    "x.count(1)\n"
   ]
  },
  {
   "cell_type": "code",
   "execution_count": 62,
   "metadata": {},
   "outputs": [
    {
     "data": {
      "text/plain": [
       "5"
      ]
     },
     "execution_count": 62,
     "metadata": {},
     "output_type": "execute_result"
    }
   ],
   "source": [
    "x.count(4)"
   ]
  },
  {
   "cell_type": "code",
   "execution_count": 1,
   "metadata": {},
   "outputs": [
    {
     "name": "stdout",
     "output_type": "stream",
     "text": [
      "sum of nums= 83\n",
      "min of nums= 3\n",
      "max of nums= 8\n",
      "mean of nums= 5.533333333333333\n"
     ]
    }
   ],
   "source": [
    "#Wap to enter 15 numbers in list,then print the sum,min,max,mean of that list\n",
    "nums=[]\n",
    "for i in range(15):\n",
    "    val=int(input(f'enter {i+1} number:'))\n",
    "    nums.append(val)\n",
    "print(\"sum of nums=\",sum(nums)) \n",
    "print(\"min of nums=\",min(nums))\n",
    "print(\"max of nums=\",max(nums)) \n",
    "print(\"mean of nums=\",sum(nums)/len(nums)) \n",
    "    \n",
    "   "
   ]
  },
  {
   "cell_type": "code",
   "execution_count": null,
   "metadata": {},
   "outputs": [],
   "source": []
  }
 ],
 "metadata": {
  "interpreter": {
   "hash": "8eedd8bba5cf8af416d277e5b6acb73c17c7e7766b082e155fe64db127c7a7bb"
  },
  "kernelspec": {
   "display_name": "Python 3.9.5 ('base')",
   "language": "python",
   "name": "python3"
  },
  "language_info": {
   "codemirror_mode": {
    "name": "ipython",
    "version": 3
   },
   "file_extension": ".py",
   "mimetype": "text/x-python",
   "name": "python",
   "nbconvert_exporter": "python",
   "pygments_lexer": "ipython3",
   "version": "3.9.5"
  },
  "orig_nbformat": 4
 },
 "nbformat": 4,
 "nbformat_minor": 2
}
